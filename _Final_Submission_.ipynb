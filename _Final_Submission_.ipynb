{
 "cells": [
  {
   "cell_type": "markdown",
   "metadata": {
    "id": "PlNV4QdBJ8zn"
   },
   "source": [
    "# 0. Setup"
   ]
  },
  {
   "cell_type": "code",
   "execution_count": null,
   "metadata": {
    "colab": {
     "base_uri": "https://localhost:8080/"
    },
    "id": "2rn16kHKU6jt",
    "outputId": "33f41bb2-a229-4e1a-ff16-e703bc7a6203"
   },
   "outputs": [
    {
     "name": "stdout",
     "output_type": "stream",
     "text": [
      "Collecting transformers\n",
      "\u001b[?25l  Downloading https://files.pythonhosted.org/packages/d8/b2/57495b5309f09fa501866e225c84532d1fd89536ea62406b2181933fb418/transformers-4.5.1-py3-none-any.whl (2.1MB)\n",
      "\u001b[K     |████████████████████████████████| 2.1MB 16.1MB/s \n",
      "\u001b[?25hCollecting tokenizers<0.11,>=0.10.1\n",
      "\u001b[?25l  Downloading https://files.pythonhosted.org/packages/ae/04/5b870f26a858552025a62f1649c20d29d2672c02ff3c3fb4c688ca46467a/tokenizers-0.10.2-cp37-cp37m-manylinux2010_x86_64.whl (3.3MB)\n",
      "\u001b[K     |████████████████████████████████| 3.3MB 56.4MB/s \n",
      "\u001b[?25hRequirement already satisfied: requests in /usr/local/lib/python3.7/dist-packages (from transformers) (2.23.0)\n",
      "Requirement already satisfied: filelock in /usr/local/lib/python3.7/dist-packages (from transformers) (3.0.12)\n",
      "Requirement already satisfied: tqdm>=4.27 in /usr/local/lib/python3.7/dist-packages (from transformers) (4.41.1)\n",
      "Requirement already satisfied: importlib-metadata; python_version < \"3.8\" in /usr/local/lib/python3.7/dist-packages (from transformers) (3.10.1)\n",
      "Requirement already satisfied: regex!=2019.12.17 in /usr/local/lib/python3.7/dist-packages (from transformers) (2019.12.20)\n",
      "Collecting sacremoses\n",
      "\u001b[?25l  Downloading https://files.pythonhosted.org/packages/75/ee/67241dc87f266093c533a2d4d3d69438e57d7a90abb216fa076e7d475d4a/sacremoses-0.0.45-py3-none-any.whl (895kB)\n",
      "\u001b[K     |████████████████████████████████| 901kB 53.8MB/s \n",
      "\u001b[?25hRequirement already satisfied: packaging in /usr/local/lib/python3.7/dist-packages (from transformers) (20.9)\n",
      "Requirement already satisfied: numpy>=1.17 in /usr/local/lib/python3.7/dist-packages (from transformers) (1.19.5)\n",
      "Requirement already satisfied: urllib3!=1.25.0,!=1.25.1,<1.26,>=1.21.1 in /usr/local/lib/python3.7/dist-packages (from requests->transformers) (1.24.3)\n",
      "Requirement already satisfied: idna<3,>=2.5 in /usr/local/lib/python3.7/dist-packages (from requests->transformers) (2.10)\n",
      "Requirement already satisfied: certifi>=2017.4.17 in /usr/local/lib/python3.7/dist-packages (from requests->transformers) (2020.12.5)\n",
      "Requirement already satisfied: chardet<4,>=3.0.2 in /usr/local/lib/python3.7/dist-packages (from requests->transformers) (3.0.4)\n",
      "Requirement already satisfied: zipp>=0.5 in /usr/local/lib/python3.7/dist-packages (from importlib-metadata; python_version < \"3.8\"->transformers) (3.4.1)\n",
      "Requirement already satisfied: typing-extensions>=3.6.4; python_version < \"3.8\" in /usr/local/lib/python3.7/dist-packages (from importlib-metadata; python_version < \"3.8\"->transformers) (3.7.4.3)\n",
      "Requirement already satisfied: six in /usr/local/lib/python3.7/dist-packages (from sacremoses->transformers) (1.15.0)\n",
      "Requirement already satisfied: click in /usr/local/lib/python3.7/dist-packages (from sacremoses->transformers) (7.1.2)\n",
      "Requirement already satisfied: joblib in /usr/local/lib/python3.7/dist-packages (from sacremoses->transformers) (1.0.1)\n",
      "Requirement already satisfied: pyparsing>=2.0.2 in /usr/local/lib/python3.7/dist-packages (from packaging->transformers) (2.4.7)\n",
      "Installing collected packages: tokenizers, sacremoses, transformers\n",
      "Successfully installed sacremoses-0.0.45 tokenizers-0.10.2 transformers-4.5.1\n"
     ]
    }
   ],
   "source": [
    "!pip install transformers"
   ]
  },
  {
   "cell_type": "code",
   "execution_count": null,
   "metadata": {
    "id": "TKKctamET7kV"
   },
   "outputs": [],
   "source": [
    "import pandas as pd\n",
    "import numpy as np\n",
    "import torch\n",
    "import torch.nn as nn\n",
    "from torch.autograd import Variable\n",
    "import torch.nn.functional as functional\n",
    "import matplotlib.pyplot as plt\n",
    "from transformers import BertForSequenceClassification, AdamW, BertConfig\n",
    "import gc\n",
    "from transformers import BertModel\n",
    "from sklearn.metrics import roc_auc_score,f1_score\n",
    "import time\n",
    "import datetime"
   ]
  },
  {
   "cell_type": "markdown",
   "metadata": {
    "id": "m4Ile6DJW53u"
   },
   "source": [
    "# 1. Load the dataset, set up the GPU, install the transformer"
   ]
  },
  {
   "cell_type": "code",
   "execution_count": null,
   "metadata": {
    "colab": {
     "base_uri": "https://localhost:8080/"
    },
    "id": "TvtocKlhUgp0",
    "outputId": "4ad612ed-bec6-4af0-db46-360432c537f4"
   },
   "outputs": [
    {
     "name": "stdout",
     "output_type": "stream",
     "text": [
      "Mounted at /content/drive\n"
     ]
    }
   ],
   "source": [
    "from google.colab import drive\n",
    "drive.mount('/content/drive')"
   ]
  },
  {
   "cell_type": "code",
   "execution_count": null,
   "metadata": {
    "colab": {
     "base_uri": "https://localhost:8080/"
    },
    "id": "g4FdB1zNVOl_",
    "outputId": "4917a657-bfd4-45e3-de8e-c64a43306192"
   },
   "outputs": [
    {
     "name": "stdout",
     "output_type": "stream",
     "text": [
      "Using GPU: True\n"
     ]
    }
   ],
   "source": [
    "torch.manual_seed(0)\n",
    "use_cuda = torch.cuda.is_available()\n",
    "device = torch.device('cuda' if use_cuda else 'cpu')\n",
    "if use_cuda:\n",
    "    torch.cuda.manual_seed(0)\n",
    "    \n",
    "print(\"Using GPU: {}\".format(use_cuda))"
   ]
  },
  {
   "cell_type": "code",
   "execution_count": null,
   "metadata": {
    "id": "Z5qBfBTIUhKi"
   },
   "outputs": [],
   "source": [
    "train = pd.read_csv('/content/drive/Shareddrives/CS682 Project/Constraint_Train.csv')\n",
    "val = pd.read_csv('/content/drive/Shareddrives/CS682 Project/Constraint_Val.csv')\n",
    "train[\"label\"] = train[\"label\"].map({\"real\": 1, \"fake\": 0})\n",
    "val[\"label\"] = val[\"label\"].map({\"real\": 1, \"fake\": 0})"
   ]
  },
  {
   "cell_type": "code",
   "execution_count": null,
   "metadata": {
    "colab": {
     "base_uri": "https://localhost:8080/",
     "height": 399
    },
    "id": "QheKql0rU4KW",
    "outputId": "207b7763-2fe6-4255-af3c-e5ed1ac7e723"
   },
   "outputs": [
    {
     "data": {
      "text/html": [
       "<div>\n",
       "<style scoped>\n",
       "    .dataframe tbody tr th:only-of-type {\n",
       "        vertical-align: middle;\n",
       "    }\n",
       "\n",
       "    .dataframe tbody tr th {\n",
       "        vertical-align: top;\n",
       "    }\n",
       "\n",
       "    .dataframe thead th {\n",
       "        text-align: right;\n",
       "    }\n",
       "</style>\n",
       "<table border=\"1\" class=\"dataframe\">\n",
       "  <thead>\n",
       "    <tr style=\"text-align: right;\">\n",
       "      <th></th>\n",
       "      <th>id</th>\n",
       "      <th>tweet</th>\n",
       "      <th>label</th>\n",
       "    </tr>\n",
       "  </thead>\n",
       "  <tbody>\n",
       "    <tr>\n",
       "      <th>0</th>\n",
       "      <td>1</td>\n",
       "      <td>The CDC currently reports 99031 deaths. In gen...</td>\n",
       "      <td>1</td>\n",
       "    </tr>\n",
       "    <tr>\n",
       "      <th>1</th>\n",
       "      <td>2</td>\n",
       "      <td>States reported 1121 deaths a small rise from ...</td>\n",
       "      <td>1</td>\n",
       "    </tr>\n",
       "    <tr>\n",
       "      <th>2</th>\n",
       "      <td>3</td>\n",
       "      <td>Politically Correct Woman (Almost) Uses Pandem...</td>\n",
       "      <td>0</td>\n",
       "    </tr>\n",
       "    <tr>\n",
       "      <th>3</th>\n",
       "      <td>4</td>\n",
       "      <td>#IndiaFightsCorona: We have 1524 #COVID testin...</td>\n",
       "      <td>1</td>\n",
       "    </tr>\n",
       "    <tr>\n",
       "      <th>4</th>\n",
       "      <td>5</td>\n",
       "      <td>Populous states can generate large case counts...</td>\n",
       "      <td>1</td>\n",
       "    </tr>\n",
       "    <tr>\n",
       "      <th>...</th>\n",
       "      <td>...</td>\n",
       "      <td>...</td>\n",
       "      <td>...</td>\n",
       "    </tr>\n",
       "    <tr>\n",
       "      <th>6415</th>\n",
       "      <td>6416</td>\n",
       "      <td>A tiger tested positive for COVID-19 please st...</td>\n",
       "      <td>0</td>\n",
       "    </tr>\n",
       "    <tr>\n",
       "      <th>6416</th>\n",
       "      <td>6417</td>\n",
       "      <td>???Autopsies prove that COVID-19 is??� a blood...</td>\n",
       "      <td>0</td>\n",
       "    </tr>\n",
       "    <tr>\n",
       "      <th>6417</th>\n",
       "      <td>6418</td>\n",
       "      <td>_A post claims a COVID-19 vaccine has already ...</td>\n",
       "      <td>0</td>\n",
       "    </tr>\n",
       "    <tr>\n",
       "      <th>6418</th>\n",
       "      <td>6419</td>\n",
       "      <td>Aamir Khan Donate 250 Cr. In PM Relief Cares Fund</td>\n",
       "      <td>0</td>\n",
       "    </tr>\n",
       "    <tr>\n",
       "      <th>6419</th>\n",
       "      <td>6420</td>\n",
       "      <td>It has been 93 days since the last case of COV...</td>\n",
       "      <td>1</td>\n",
       "    </tr>\n",
       "  </tbody>\n",
       "</table>\n",
       "<p>6420 rows × 3 columns</p>\n",
       "</div>"
      ],
      "text/plain": [
       "        id                                              tweet  label\n",
       "0        1  The CDC currently reports 99031 deaths. In gen...      1\n",
       "1        2  States reported 1121 deaths a small rise from ...      1\n",
       "2        3  Politically Correct Woman (Almost) Uses Pandem...      0\n",
       "3        4  #IndiaFightsCorona: We have 1524 #COVID testin...      1\n",
       "4        5  Populous states can generate large case counts...      1\n",
       "...    ...                                                ...    ...\n",
       "6415  6416  A tiger tested positive for COVID-19 please st...      0\n",
       "6416  6417  ???Autopsies prove that COVID-19 is??� a blood...      0\n",
       "6417  6418  _A post claims a COVID-19 vaccine has already ...      0\n",
       "6418  6419  Aamir Khan Donate 250 Cr. In PM Relief Cares Fund      0\n",
       "6419  6420  It has been 93 days since the last case of COV...      1\n",
       "\n",
       "[6420 rows x 3 columns]"
      ]
     },
     "execution_count": 7,
     "metadata": {
      "tags": []
     },
     "output_type": "execute_result"
    }
   ],
   "source": [
    "train"
   ]
  },
  {
   "cell_type": "code",
   "execution_count": null,
   "metadata": {
    "colab": {
     "base_uri": "https://localhost:8080/",
     "height": 399
    },
    "id": "TOQxiuEzVmLJ",
    "outputId": "543bfc29-8e1f-40f4-f612-33fd38b13382"
   },
   "outputs": [
    {
     "data": {
      "text/html": [
       "<div>\n",
       "<style scoped>\n",
       "    .dataframe tbody tr th:only-of-type {\n",
       "        vertical-align: middle;\n",
       "    }\n",
       "\n",
       "    .dataframe tbody tr th {\n",
       "        vertical-align: top;\n",
       "    }\n",
       "\n",
       "    .dataframe thead th {\n",
       "        text-align: right;\n",
       "    }\n",
       "</style>\n",
       "<table border=\"1\" class=\"dataframe\">\n",
       "  <thead>\n",
       "    <tr style=\"text-align: right;\">\n",
       "      <th></th>\n",
       "      <th>id</th>\n",
       "      <th>tweet</th>\n",
       "      <th>label</th>\n",
       "    </tr>\n",
       "  </thead>\n",
       "  <tbody>\n",
       "    <tr>\n",
       "      <th>0</th>\n",
       "      <td>1</td>\n",
       "      <td>Chinese converting to Islam after realising th...</td>\n",
       "      <td>0</td>\n",
       "    </tr>\n",
       "    <tr>\n",
       "      <th>1</th>\n",
       "      <td>2</td>\n",
       "      <td>11 out of 13 people (from the Diamond Princess...</td>\n",
       "      <td>0</td>\n",
       "    </tr>\n",
       "    <tr>\n",
       "      <th>2</th>\n",
       "      <td>3</td>\n",
       "      <td>COVID-19 Is Caused By A Bacterium, Not Virus A...</td>\n",
       "      <td>0</td>\n",
       "    </tr>\n",
       "    <tr>\n",
       "      <th>3</th>\n",
       "      <td>4</td>\n",
       "      <td>Mike Pence in RNC speech praises Donald Trump’...</td>\n",
       "      <td>0</td>\n",
       "    </tr>\n",
       "    <tr>\n",
       "      <th>4</th>\n",
       "      <td>5</td>\n",
       "      <td>6/10 Sky's @EdConwaySky explains the latest #C...</td>\n",
       "      <td>1</td>\n",
       "    </tr>\n",
       "    <tr>\n",
       "      <th>...</th>\n",
       "      <td>...</td>\n",
       "      <td>...</td>\n",
       "      <td>...</td>\n",
       "    </tr>\n",
       "    <tr>\n",
       "      <th>2135</th>\n",
       "      <td>2136</td>\n",
       "      <td>Donald Trump wrongly claimed that New Zealand ...</td>\n",
       "      <td>0</td>\n",
       "    </tr>\n",
       "    <tr>\n",
       "      <th>2136</th>\n",
       "      <td>2137</td>\n",
       "      <td>Current understanding is #COVID19 spreads most...</td>\n",
       "      <td>1</td>\n",
       "    </tr>\n",
       "    <tr>\n",
       "      <th>2137</th>\n",
       "      <td>2138</td>\n",
       "      <td>Nothing screams “I am sat around doing fuck al...</td>\n",
       "      <td>0</td>\n",
       "    </tr>\n",
       "    <tr>\n",
       "      <th>2138</th>\n",
       "      <td>2139</td>\n",
       "      <td>Birx says COVID-19 outbreak not under control ...</td>\n",
       "      <td>0</td>\n",
       "    </tr>\n",
       "    <tr>\n",
       "      <th>2139</th>\n",
       "      <td>2140</td>\n",
       "      <td>Another 4422 new coronavirus cases have been c...</td>\n",
       "      <td>1</td>\n",
       "    </tr>\n",
       "  </tbody>\n",
       "</table>\n",
       "<p>2140 rows × 3 columns</p>\n",
       "</div>"
      ],
      "text/plain": [
       "        id                                              tweet  label\n",
       "0        1  Chinese converting to Islam after realising th...      0\n",
       "1        2  11 out of 13 people (from the Diamond Princess...      0\n",
       "2        3  COVID-19 Is Caused By A Bacterium, Not Virus A...      0\n",
       "3        4  Mike Pence in RNC speech praises Donald Trump’...      0\n",
       "4        5  6/10 Sky's @EdConwaySky explains the latest #C...      1\n",
       "...    ...                                                ...    ...\n",
       "2135  2136  Donald Trump wrongly claimed that New Zealand ...      0\n",
       "2136  2137  Current understanding is #COVID19 spreads most...      1\n",
       "2137  2138  Nothing screams “I am sat around doing fuck al...      0\n",
       "2138  2139  Birx says COVID-19 outbreak not under control ...      0\n",
       "2139  2140  Another 4422 new coronavirus cases have been c...      1\n",
       "\n",
       "[2140 rows x 3 columns]"
      ]
     },
     "execution_count": 8,
     "metadata": {
      "tags": []
     },
     "output_type": "execute_result"
    }
   ],
   "source": [
    "val"
   ]
  },
  {
   "cell_type": "code",
   "execution_count": null,
   "metadata": {
    "colab": {
     "base_uri": "https://localhost:8080/",
     "height": 399
    },
    "id": "Ji3I9nRYFEhA",
    "outputId": "fb8ecab4-125b-4c72-b115-ec54d0930565"
   },
   "outputs": [
    {
     "data": {
      "text/html": [
       "<div>\n",
       "<style scoped>\n",
       "    .dataframe tbody tr th:only-of-type {\n",
       "        vertical-align: middle;\n",
       "    }\n",
       "\n",
       "    .dataframe tbody tr th {\n",
       "        vertical-align: top;\n",
       "    }\n",
       "\n",
       "    .dataframe thead th {\n",
       "        text-align: right;\n",
       "    }\n",
       "</style>\n",
       "<table border=\"1\" class=\"dataframe\">\n",
       "  <thead>\n",
       "    <tr style=\"text-align: right;\">\n",
       "      <th></th>\n",
       "      <th>tweet</th>\n",
       "      <th>label</th>\n",
       "    </tr>\n",
       "  </thead>\n",
       "  <tbody>\n",
       "    <tr>\n",
       "      <th>0</th>\n",
       "      <td>The CDC currently reports 99031 deaths. In gen...</td>\n",
       "      <td>1</td>\n",
       "    </tr>\n",
       "    <tr>\n",
       "      <th>1</th>\n",
       "      <td>States reported 1121 deaths a small rise from ...</td>\n",
       "      <td>1</td>\n",
       "    </tr>\n",
       "    <tr>\n",
       "      <th>2</th>\n",
       "      <td>Politically Correct Woman (Almost) Uses Pandem...</td>\n",
       "      <td>0</td>\n",
       "    </tr>\n",
       "    <tr>\n",
       "      <th>3</th>\n",
       "      <td>#IndiaFightsCorona: We have 1524 #COVID testin...</td>\n",
       "      <td>1</td>\n",
       "    </tr>\n",
       "    <tr>\n",
       "      <th>4</th>\n",
       "      <td>Populous states can generate large case counts...</td>\n",
       "      <td>1</td>\n",
       "    </tr>\n",
       "    <tr>\n",
       "      <th>...</th>\n",
       "      <td>...</td>\n",
       "      <td>...</td>\n",
       "    </tr>\n",
       "    <tr>\n",
       "      <th>8555</th>\n",
       "      <td>Donald Trump wrongly claimed that New Zealand ...</td>\n",
       "      <td>0</td>\n",
       "    </tr>\n",
       "    <tr>\n",
       "      <th>8556</th>\n",
       "      <td>Current understanding is #COVID19 spreads most...</td>\n",
       "      <td>1</td>\n",
       "    </tr>\n",
       "    <tr>\n",
       "      <th>8557</th>\n",
       "      <td>Nothing screams “I am sat around doing fuck al...</td>\n",
       "      <td>0</td>\n",
       "    </tr>\n",
       "    <tr>\n",
       "      <th>8558</th>\n",
       "      <td>Birx says COVID-19 outbreak not under control ...</td>\n",
       "      <td>0</td>\n",
       "    </tr>\n",
       "    <tr>\n",
       "      <th>8559</th>\n",
       "      <td>Another 4422 new coronavirus cases have been c...</td>\n",
       "      <td>1</td>\n",
       "    </tr>\n",
       "  </tbody>\n",
       "</table>\n",
       "<p>8560 rows × 2 columns</p>\n",
       "</div>"
      ],
      "text/plain": [
       "                                                  tweet  label\n",
       "0     The CDC currently reports 99031 deaths. In gen...      1\n",
       "1     States reported 1121 deaths a small rise from ...      1\n",
       "2     Politically Correct Woman (Almost) Uses Pandem...      0\n",
       "3     #IndiaFightsCorona: We have 1524 #COVID testin...      1\n",
       "4     Populous states can generate large case counts...      1\n",
       "...                                                 ...    ...\n",
       "8555  Donald Trump wrongly claimed that New Zealand ...      0\n",
       "8556  Current understanding is #COVID19 spreads most...      1\n",
       "8557  Nothing screams “I am sat around doing fuck al...      0\n",
       "8558  Birx says COVID-19 outbreak not under control ...      0\n",
       "8559  Another 4422 new coronavirus cases have been c...      1\n",
       "\n",
       "[8560 rows x 2 columns]"
      ]
     },
     "execution_count": 9,
     "metadata": {
      "tags": []
     },
     "output_type": "execute_result"
    }
   ],
   "source": [
    "data = pd.concat([train, val], axis=0, ignore_index=True).drop([\"id\"], axis=1)\n",
    "data"
   ]
  },
  {
   "cell_type": "markdown",
   "metadata": {
    "id": "Ul0PkiRlXB33"
   },
   "source": [
    "# 2. Begin Tokenize the data"
   ]
  },
  {
   "cell_type": "code",
   "execution_count": null,
   "metadata": {
    "colab": {
     "base_uri": "https://localhost:8080/",
     "referenced_widgets": [
      "2b371eb8229c4a6cbd1d5997e872a498",
      "7bfe1110aad24de996256edd240e2b2d",
      "626a6cac52b149d9888cae64ba29bff6",
      "b1f109e85e624f1a89dd1c5626d36d20",
      "badf9b4e568f4791977893f80e253135",
      "5ea88c352a404d82bbce7a6224430e3c",
      "a3daa289ede04498a16a2d369b6cf4f3",
      "05967b9481594b93901efdb0ff5ad809",
      "7d3c5337e8834ef783858acdf85fe56a",
      "bb5e7f0bbab44e87bd62517e37bb47ae",
      "373688c770da4ec1ab63bc8f80733a7c",
      "c2867adc2e254b62960d91ef9bc4b36f",
      "0daab2bffc9b42b38de836a13986231a",
      "b32bbcc602964a59826b73ad3f6cb8a0",
      "0423c6395eaa4d6aa9a4cc6328b4e571",
      "38b53480950048d28c5ed3640e84d455",
      "19cfc37cea5c4238822a64cd141371c0",
      "28c4636aff0747a2a93230d87f3db14c",
      "064f00e64d334c1b845425f3cac6fc52",
      "108b456a34b141a787dc0f705d380594",
      "600ce8dc01f7467f9f7843c3a23a6d5d",
      "7c4ac4eb30fb41388a234ddbf9a9a160",
      "d417b3c5e34b43e19f8316813324e620",
      "ddba104147f947009106ad3158e4d459"
     ]
    },
    "id": "_GKlXaeWVxht",
    "outputId": "2dc67684-0513-41ce-b5b7-834bd3e9faec"
   },
   "outputs": [
    {
     "name": "stdout",
     "output_type": "stream",
     "text": [
      "Loading BERT tokenizer...\n"
     ]
    },
    {
     "data": {
      "application/vnd.jupyter.widget-view+json": {
       "model_id": "2b371eb8229c4a6cbd1d5997e872a498",
       "version_major": 2,
       "version_minor": 0
      },
      "text/plain": [
       "HBox(children=(FloatProgress(value=0.0, description='Downloading', max=231508.0, style=ProgressStyle(descripti…"
      ]
     },
     "metadata": {
      "tags": []
     },
     "output_type": "display_data"
    },
    {
     "name": "stdout",
     "output_type": "stream",
     "text": [
      "\n"
     ]
    },
    {
     "data": {
      "application/vnd.jupyter.widget-view+json": {
       "model_id": "7d3c5337e8834ef783858acdf85fe56a",
       "version_major": 2,
       "version_minor": 0
      },
      "text/plain": [
       "HBox(children=(FloatProgress(value=0.0, description='Downloading', max=28.0, style=ProgressStyle(description_w…"
      ]
     },
     "metadata": {
      "tags": []
     },
     "output_type": "display_data"
    },
    {
     "name": "stdout",
     "output_type": "stream",
     "text": [
      "\n"
     ]
    },
    {
     "data": {
      "application/vnd.jupyter.widget-view+json": {
       "model_id": "19cfc37cea5c4238822a64cd141371c0",
       "version_major": 2,
       "version_minor": 0
      },
      "text/plain": [
       "HBox(children=(FloatProgress(value=0.0, description='Downloading', max=466062.0, style=ProgressStyle(descripti…"
      ]
     },
     "metadata": {
      "tags": []
     },
     "output_type": "display_data"
    },
    {
     "name": "stdout",
     "output_type": "stream",
     "text": [
      "\n"
     ]
    }
   ],
   "source": [
    "from transformers import BertTokenizer\n",
    "print('Loading BERT tokenizer...')\n",
    "tokenizer = BertTokenizer.from_pretrained('bert-base-uncased', do_lower_case=True)"
   ]
  },
  {
   "cell_type": "code",
   "execution_count": null,
   "metadata": {
    "id": "6DaToN5PWUag"
   },
   "outputs": [],
   "source": [
    "tweets = data.tweet.values\n",
    "labels = data.label.values"
   ]
  },
  {
   "cell_type": "code",
   "execution_count": null,
   "metadata": {
    "colab": {
     "base_uri": "https://localhost:8080/"
    },
    "id": "1I6Dj3Ik_q1V",
    "outputId": "188dc471-0ebf-4bc1-dfc7-37e5d26895c9"
   },
   "outputs": [
    {
     "data": {
      "text/plain": [
       "array(['The CDC currently reports 99031 deaths. In general the discrepancies in death counts between different sources are small and explicable. The death toll stands at roughly 100000 people today.',\n",
       "       'States reported 1121 deaths a small rise from last Tuesday. Southern states reported 640 of those deaths. https://t.co/YASGRTT4ux',\n",
       "       'Politically Correct Woman (Almost) Uses Pandemic as Excuse Not to Reuse Plastic Bag https://t.co/thF8GuNFPe #coronavirus #nashville',\n",
       "       ...,\n",
       "       'Nothing screams “I am sat around doing fuck all during lockdown” quite like confident assumption that other people are sat around doing fuck all during lockdown https://t.co/Hs3rZAAl1h',\n",
       "       'Birx says COVID-19 outbreak not under control because ‘people are on the move’ https://t.co/YFqi6f7Rvj',\n",
       "       \"Another 4422 new coronavirus cases have been confirmed in the UK - the highest daily number since 8 May. It's up from 4322 new cases reported on Friday and the overall total nationwide now stands at 385936. Read the latest here: https://t.co/1TYdoRZ9Yr https://t.co/96F7njc7sM\"],\n",
       "      dtype=object)"
      ]
     },
     "execution_count": 12,
     "metadata": {
      "tags": []
     },
     "output_type": "execute_result"
    }
   ],
   "source": [
    "tweets"
   ]
  },
  {
   "cell_type": "code",
   "execution_count": null,
   "metadata": {
    "colab": {
     "base_uri": "https://localhost:8080/"
    },
    "id": "_r3VwxkewLVk",
    "outputId": "018bdbc2-bb42-41e3-a77c-095b7305e15f"
   },
   "outputs": [
    {
     "name": "stdout",
     "output_type": "stream",
     "text": [
      "['the cdc currently reports 99031 deaths in general the discrepancies in death counts between different sources are small and explicable the death toll stands at roughly 100000 people today '\n",
      " 'states reported 1121 deaths a small rise from last tuesday southern states reported 640 of those deaths '\n",
      " 'politically correct woman almost uses pandemic as excuse not to reuse plastic bag '\n",
      " ...\n",
      " 'nothing screams “i am sat around doing fuck all during lockdown” quite like confident assumption that other people are sat around doing fuck all during lockdown '\n",
      " 'birx says covid19 outbreak not under control because ‘people are on the move’ '\n",
      " 'another 4422 new coronavirus cases have been confirmed in the uk the highest daily number since 8 may its up from 4322 new cases reported on friday and the overall total nationwide now stands at 385936 read the latest here ']\n"
     ]
    }
   ],
   "source": [
    "import re\n",
    "from string import punctuation\n",
    "def preprocess(data):\n",
    "    #remove url and hashtag\n",
    "    for i in range(data.shape[0]):\n",
    "        text=data[i].lower()\n",
    "        text1=''.join([word+\" \" for word in text.split()])\n",
    "        data[i]=text1\n",
    "    giant_url_regex = ('http[s]?://(?:[a-zA-Z]|[0-9]|[$-_@.&+]|'\n",
    "        '[!*\\(\\),]|(?:%[0-9a-fA-F][0-9a-fA-F]))+')\n",
    "    mention_regex = '@[\\w\\-]+'\n",
    "    hashtag_regex = '#[\\w\\-]+'\n",
    "    space_pattern = '\\s+'\n",
    "\n",
    "    for i in range(data.shape[0]):\n",
    "        text_string = data[i]\n",
    "        parsed_text = re.sub(hashtag_regex, '', text_string)\n",
    "        parsed_text = re.sub(giant_url_regex, '', parsed_text)\n",
    "        parsed_text = re.sub(mention_regex, '', parsed_text) \n",
    "        #remove punctuation\n",
    "        parsed_text = re.sub(r\"[{}]+\".format(punctuation), '', parsed_text) \n",
    "        parsed_text = re.sub(space_pattern, ' ', parsed_text)\n",
    "        data[i] = parsed_text\n",
    "    return data\n",
    "tweets = preprocess(tweets)\n",
    "print(tweets)"
   ]
  },
  {
   "cell_type": "code",
   "execution_count": null,
   "metadata": {
    "colab": {
     "base_uri": "https://localhost:8080/"
    },
    "id": "U2oBkEwCWlSJ",
    "outputId": "09c9b246-57b6-4c3d-97a2-ae69fbcf3bf6"
   },
   "outputs": [
    {
     "name": "stdout",
     "output_type": "stream",
     "text": [
      " Original:  the cdc currently reports 99031 deaths in general the discrepancies in death counts between different sources are small and explicable the death toll stands at roughly 100000 people today \n",
      "Tokenized:  ['the', 'cdc', 'currently', 'reports', '99', '##0', '##31', 'deaths', 'in', 'general', 'the', 'disc', '##re', '##pan', '##cies', 'in', 'death', 'counts', 'between', 'different', 'sources', 'are', 'small', 'and', 'ex', '##pl', '##ica', '##ble', 'the', 'death', 'toll', 'stands', 'at', 'roughly', '1000', '##00', 'people', 'today']\n",
      "Token IDs:  [1996, 26629, 2747, 4311, 5585, 2692, 21486, 6677, 1999, 2236, 1996, 5860, 2890, 9739, 9243, 1999, 2331, 9294, 2090, 2367, 4216, 2024, 2235, 1998, 4654, 24759, 5555, 3468, 1996, 2331, 9565, 4832, 2012, 5560, 6694, 8889, 2111, 2651]\n"
     ]
    }
   ],
   "source": [
    "# Print the original sentence.\n",
    "print(' Original: ', tweets[0])\n",
    "\n",
    "# Print the sentence split into tokens.\n",
    "print('Tokenized: ', tokenizer.tokenize(tweets[0]))\n",
    "\n",
    "# Print the sentence mapped to token ids.\n",
    "print('Token IDs: ', tokenizer.convert_tokens_to_ids(tokenizer.tokenize(tweets[0])))"
   ]
  },
  {
   "cell_type": "code",
   "execution_count": null,
   "metadata": {
    "colab": {
     "base_uri": "https://localhost:8080/"
    },
    "id": "GJ42kHldWoCN",
    "outputId": "d6287420-c299-40ee-b61b-e83d4ae5877b"
   },
   "outputs": [
    {
     "name": "stdout",
     "output_type": "stream",
     "text": [
      "Count of sentence length over 100 is:  5667\n",
      "Count of sentence length over 200 is:  2327\n",
      "Count of sentence length over 300 is:  59\n",
      "Count of sentence length over 400 is:  20\n",
      "Count of sentence length over 500 is:  13\n",
      "Count of sentence length over 512 is:  10\n",
      "Max sentence length:  8672\n"
     ]
    }
   ],
   "source": [
    "max_len = 0\n",
    "ind = [100,200,300,400,500,512]\n",
    "for i in ind:\n",
    "  count = 0\n",
    "  for tweet in tweets:\n",
    "      max_len = max(max_len, len(tweet))\n",
    "      if len(tweet)>i:\n",
    "        count+=1\n",
    "  print(\"Count of sentence length over {} is: \".format(i), count)\n",
    "print('Max sentence length: ', max_len)"
   ]
  },
  {
   "cell_type": "code",
   "execution_count": null,
   "metadata": {
    "colab": {
     "base_uri": "https://localhost:8080/"
    },
    "id": "fR-xM4fuXR6F",
    "outputId": "5bf6de3b-82f7-4462-a514-8ef866f49e00"
   },
   "outputs": [
    {
     "name": "stderr",
     "output_type": "stream",
     "text": [
      "Truncation was not explicitly activated but `max_length` is provided a specific value, please use `truncation=True` to explicitly truncate examples to max length. Defaulting to 'longest_first' truncation strategy. If you encode pairs of sequences (GLUE-style) with the tokenizer you can select this strategy more precisely by providing a specific strategy to `truncation`.\n",
      "/usr/local/lib/python3.7/dist-packages/transformers/tokenization_utils_base.py:2079: FutureWarning: The `pad_to_max_length` argument is deprecated and will be removed in a future version, use `padding=True` or `padding='longest'` to pad to the longest sequence in the batch, or use `padding='max_length'` to pad to a max length. In this case, you can give a specific length with `max_length` (e.g. `max_length=45`) or leave max_length to None to pad to the maximal input size of the model (e.g. 512 for Bert).\n",
      "  FutureWarning,\n"
     ]
    },
    {
     "name": "stdout",
     "output_type": "stream",
     "text": [
      "Original:  the cdc currently reports 99031 deaths in general the discrepancies in death counts between different sources are small and explicable the death toll stands at roughly 100000 people today \n",
      "Token IDs: tensor([  101,  1996, 26629,  2747,  4311,  5585,  2692, 21486,  6677,  1999,\n",
      "         2236,  1996,  5860,  2890,  9739,  9243,  1999,  2331,  9294,  2090,\n",
      "         2367,  4216,  2024,  2235,  1998,  4654, 24759,  5555,  3468,  1996,\n",
      "         2331,  9565,  4832,  2012,  5560,  6694,  8889,  2111,  2651,   102,\n",
      "            0,     0,     0,     0,     0,     0,     0,     0,     0,     0,\n",
      "            0,     0,     0,     0,     0,     0,     0,     0,     0,     0,\n",
      "            0,     0,     0,     0,     0,     0,     0,     0,     0,     0,\n",
      "            0,     0,     0,     0,     0,     0,     0,     0,     0,     0,\n",
      "            0,     0,     0,     0,     0,     0,     0,     0,     0,     0,\n",
      "            0,     0,     0,     0,     0,     0,     0,     0,     0,     0,\n",
      "            0,     0,     0,     0,     0,     0,     0,     0,     0,     0,\n",
      "            0,     0,     0,     0,     0,     0,     0,     0,     0,     0,\n",
      "            0,     0,     0,     0,     0,     0,     0,     0,     0,     0,\n",
      "            0,     0,     0,     0,     0,     0,     0,     0,     0,     0,\n",
      "            0,     0,     0,     0,     0,     0,     0,     0,     0,     0,\n",
      "            0,     0,     0,     0,     0,     0,     0,     0,     0,     0,\n",
      "            0,     0,     0,     0,     0,     0,     0,     0,     0,     0,\n",
      "            0,     0,     0,     0,     0,     0,     0,     0,     0,     0,\n",
      "            0,     0,     0,     0,     0,     0,     0,     0,     0,     0,\n",
      "            0,     0,     0,     0,     0,     0,     0,     0,     0,     0,\n",
      "            0,     0,     0,     0,     0,     0,     0,     0,     0,     0,\n",
      "            0,     0,     0,     0,     0,     0,     0,     0,     0,     0,\n",
      "            0,     0,     0,     0,     0,     0,     0,     0,     0,     0,\n",
      "            0,     0,     0,     0,     0,     0,     0,     0,     0,     0,\n",
      "            0,     0,     0,     0,     0,     0,     0,     0,     0,     0,\n",
      "            0,     0,     0,     0,     0,     0,     0,     0,     0,     0,\n",
      "            0,     0,     0,     0,     0,     0,     0,     0,     0,     0,\n",
      "            0,     0,     0,     0,     0,     0,     0,     0,     0,     0,\n",
      "            0,     0,     0,     0,     0,     0,     0,     0,     0,     0,\n",
      "            0,     0,     0,     0,     0,     0,     0,     0,     0,     0,\n",
      "            0,     0,     0,     0,     0,     0,     0,     0,     0,     0,\n",
      "            0,     0,     0,     0,     0,     0,     0,     0,     0,     0,\n",
      "            0,     0,     0,     0,     0,     0,     0,     0,     0,     0,\n",
      "            0,     0,     0,     0,     0,     0,     0,     0,     0,     0,\n",
      "            0,     0,     0,     0,     0,     0,     0,     0,     0,     0,\n",
      "            0,     0,     0,     0,     0,     0,     0,     0,     0,     0,\n",
      "            0,     0,     0,     0,     0,     0,     0,     0,     0,     0,\n",
      "            0,     0,     0,     0,     0,     0,     0,     0,     0,     0,\n",
      "            0,     0,     0,     0,     0,     0,     0,     0,     0,     0,\n",
      "            0,     0,     0,     0,     0,     0,     0,     0,     0,     0,\n",
      "            0,     0,     0,     0,     0,     0,     0,     0,     0,     0,\n",
      "            0,     0,     0,     0,     0,     0,     0,     0,     0,     0,\n",
      "            0,     0,     0,     0,     0,     0,     0,     0,     0,     0,\n",
      "            0,     0,     0,     0,     0,     0,     0,     0,     0,     0,\n",
      "            0,     0,     0,     0,     0,     0,     0,     0,     0,     0,\n",
      "            0,     0,     0,     0,     0,     0,     0,     0,     0,     0,\n",
      "            0,     0,     0,     0,     0,     0,     0,     0,     0,     0,\n",
      "            0,     0,     0,     0,     0,     0,     0,     0,     0,     0,\n",
      "            0,     0,     0,     0,     0,     0,     0,     0,     0,     0,\n",
      "            0,     0,     0,     0,     0,     0,     0,     0,     0,     0,\n",
      "            0,     0,     0,     0,     0,     0,     0,     0,     0,     0,\n",
      "            0,     0])\n"
     ]
    }
   ],
   "source": [
    "input_ids = []\n",
    "attention_masks = []\n",
    "for tweet in tweets:\n",
    "    encoded_dict = tokenizer.encode_plus(\n",
    "                        tweet,                      # Sentence to encode.\n",
    "                        add_special_tokens = True, # Add '[CLS]' and '[SEP]'\n",
    "                        max_length = 512,           # Pad & truncate all sentences.\n",
    "                        pad_to_max_length = True,\n",
    "                        return_attention_mask = True,   # Construct attn. masks.\n",
    "                        return_tensors = 'pt',     # Return pytorch tensors.\n",
    "                   )\n",
    "    \n",
    "    # Add the encoded sentence to the list.    \n",
    "    input_ids.append(encoded_dict['input_ids'])\n",
    "    \n",
    "    # And its attention mask (simply differentiates padding from non-padding).\n",
    "    attention_masks.append(encoded_dict['attention_mask'])\n",
    "# Convert the lists into tensors.\n",
    "input_ids = torch.cat(input_ids, dim=0)\n",
    "attention_masks = torch.cat(attention_masks, dim=0)\n",
    "labels = torch.tensor(labels)\n",
    "\n",
    "# Print sentence 0, now as a list of IDs.\n",
    "print('Original: ', tweets[0])\n",
    "print('Token IDs:', input_ids[0])"
   ]
  },
  {
   "cell_type": "markdown",
   "metadata": {
    "id": "7z-XFaJeHAkO"
   },
   "source": [
    "#3 Train and test Procedure"
   ]
  },
  {
   "cell_type": "markdown",
   "metadata": {
    "id": "NYg27RYqs0mX"
   },
   "source": [
    "Approach #1"
   ]
  },
  {
   "cell_type": "code",
   "execution_count": null,
   "metadata": {
    "colab": {
     "base_uri": "https://localhost:8080/"
    },
    "id": "tN27Pm6tA1GQ",
    "outputId": "0088e7f4-b919-4736-b809-a2c1adaa360f"
   },
   "outputs": [
    {
     "name": "stdout",
     "output_type": "stream",
     "text": [
      "7,704 training samples\n",
      "  856 validation samples\n"
     ]
    }
   ],
   "source": [
    "from torch.utils.data import TensorDataset, random_split\n",
    "\n",
    "# Combine the training inputs into a TensorDataset.\n",
    "dataset = TensorDataset(input_ids, attention_masks, labels)\n",
    "\n",
    "# Create a 90-10 train-validation split.\n",
    "train_size = int(0.9 * len(dataset))\n",
    "val_size = len(dataset) - train_size\n",
    "\n",
    "train_dataset, val_dataset = random_split(dataset, [train_size, val_size],generator=torch.Generator().manual_seed(42))\n",
    "\n",
    "print('{:>5,} training samples'.format(train_size))\n",
    "print('{:>5,} validation samples'.format(val_size))"
   ]
  },
  {
   "cell_type": "code",
   "execution_count": null,
   "metadata": {
    "id": "fpdrQqGLGrzW"
   },
   "outputs": [],
   "source": [
    "from torch.utils.data import DataLoader, RandomSampler, SequentialSampler\n",
    "\n",
    "batch_size = 16\n",
    "\n",
    "train_dataloader = DataLoader(\n",
    "            train_dataset,  \n",
    "            shuffle = True,\n",
    "            batch_size = batch_size \n",
    "        )\n",
    "\n",
    "validation_dataloader = DataLoader(\n",
    "            val_dataset,\n",
    "            shuffle = False,\n",
    "            batch_size = batch_size \n",
    "        )"
   ]
  },
  {
   "cell_type": "code",
   "execution_count": null,
   "metadata": {
    "id": "oTpHMNz1nX7g"
   },
   "outputs": [],
   "source": [
    "def format_time(elapsed):\n",
    "    elapsed_rounded = int(round((elapsed)))\n",
    "    return str(datetime.timedelta(seconds=elapsed_rounded))"
   ]
  },
  {
   "cell_type": "markdown",
   "metadata": {
    "id": "E8EEOXKpEL8I"
   },
   "source": [
    "# 3.1 BERT Fine Tune\n",
    "best acc: 0.9579439252336449"
   ]
  },
  {
   "cell_type": "code",
   "execution_count": null,
   "metadata": {
    "colab": {
     "base_uri": "https://localhost:8080/",
     "height": 1000,
     "referenced_widgets": [
      "4eae936a95dd4715b15c7a739cda0954",
      "079cf310324e4c3aa6df3d26d50343c3",
      "00ca1d6fa93e472d836354c91d962442",
      "ed7cf1d2e2e74502b92d97e58885e6d5",
      "32ebf0bef3d349a2a32c85169b228278",
      "133bf8f03f054b9cb77fc845d731250b",
      "ba14ebc0ea864fe29d50e8c85d213e2e",
      "4b8c05cf9508421ba7ad89afbb208a91",
      "866512ec005e4bc9b028d3c8a78d9178",
      "82e5ee9998a34ad3b52f4a46bd01cd62",
      "f6f8b0bcf5e249438df182fd45c90234",
      "020732fd790c43c4925f0e63635564d6",
      "f4037784f4e94c1c80212271619d8658",
      "377461a288454f1eafa8a826a9ecc30f",
      "0fb14f0864634ba6bc0173d0201014ad",
      "5ce1cbbd966a40aea625bf01b687513d"
     ]
    },
    "id": "HQiIl1oWOVg0",
    "outputId": "4d2694f6-e67d-4bc1-83bb-ee8df456fa1a"
   },
   "outputs": [
    {
     "data": {
      "application/vnd.jupyter.widget-view+json": {
       "model_id": "4eae936a95dd4715b15c7a739cda0954",
       "version_major": 2,
       "version_minor": 0
      },
      "text/plain": [
       "HBox(children=(FloatProgress(value=0.0, description='Downloading', max=570.0, style=ProgressStyle(description_…"
      ]
     },
     "metadata": {
      "tags": []
     },
     "output_type": "display_data"
    },
    {
     "name": "stdout",
     "output_type": "stream",
     "text": [
      "\n"
     ]
    },
    {
     "data": {
      "application/vnd.jupyter.widget-view+json": {
       "model_id": "866512ec005e4bc9b028d3c8a78d9178",
       "version_major": 2,
       "version_minor": 0
      },
      "text/plain": [
       "HBox(children=(FloatProgress(value=0.0, description='Downloading', max=440473133.0, style=ProgressStyle(descri…"
      ]
     },
     "metadata": {
      "tags": []
     },
     "output_type": "display_data"
    },
    {
     "name": "stdout",
     "output_type": "stream",
     "text": [
      "\n"
     ]
    },
    {
     "name": "stderr",
     "output_type": "stream",
     "text": [
      "Some weights of the model checkpoint at bert-base-uncased were not used when initializing BertForSequenceClassification: ['cls.predictions.bias', 'cls.predictions.transform.dense.weight', 'cls.predictions.transform.dense.bias', 'cls.predictions.decoder.weight', 'cls.seq_relationship.weight', 'cls.seq_relationship.bias', 'cls.predictions.transform.LayerNorm.weight', 'cls.predictions.transform.LayerNorm.bias']\n",
      "- This IS expected if you are initializing BertForSequenceClassification from the checkpoint of a model trained on another task or with another architecture (e.g. initializing a BertForSequenceClassification model from a BertForPreTraining model).\n",
      "- This IS NOT expected if you are initializing BertForSequenceClassification from the checkpoint of a model that you expect to be exactly identical (initializing a BertForSequenceClassification model from a BertForSequenceClassification model).\n",
      "Some weights of BertForSequenceClassification were not initialized from the model checkpoint at bert-base-uncased and are newly initialized: ['classifier.weight', 'classifier.bias']\n",
      "You should probably TRAIN this model on a down-stream task to be able to use it for predictions and inference.\n"
     ]
    },
    {
     "data": {
      "text/plain": [
       "BertForSequenceClassification(\n",
       "  (bert): BertModel(\n",
       "    (embeddings): BertEmbeddings(\n",
       "      (word_embeddings): Embedding(30522, 768, padding_idx=0)\n",
       "      (position_embeddings): Embedding(512, 768)\n",
       "      (token_type_embeddings): Embedding(2, 768)\n",
       "      (LayerNorm): LayerNorm((768,), eps=1e-12, elementwise_affine=True)\n",
       "      (dropout): Dropout(p=0.1, inplace=False)\n",
       "    )\n",
       "    (encoder): BertEncoder(\n",
       "      (layer): ModuleList(\n",
       "        (0): BertLayer(\n",
       "          (attention): BertAttention(\n",
       "            (self): BertSelfAttention(\n",
       "              (query): Linear(in_features=768, out_features=768, bias=True)\n",
       "              (key): Linear(in_features=768, out_features=768, bias=True)\n",
       "              (value): Linear(in_features=768, out_features=768, bias=True)\n",
       "              (dropout): Dropout(p=0.1, inplace=False)\n",
       "            )\n",
       "            (output): BertSelfOutput(\n",
       "              (dense): Linear(in_features=768, out_features=768, bias=True)\n",
       "              (LayerNorm): LayerNorm((768,), eps=1e-12, elementwise_affine=True)\n",
       "              (dropout): Dropout(p=0.1, inplace=False)\n",
       "            )\n",
       "          )\n",
       "          (intermediate): BertIntermediate(\n",
       "            (dense): Linear(in_features=768, out_features=3072, bias=True)\n",
       "          )\n",
       "          (output): BertOutput(\n",
       "            (dense): Linear(in_features=3072, out_features=768, bias=True)\n",
       "            (LayerNorm): LayerNorm((768,), eps=1e-12, elementwise_affine=True)\n",
       "            (dropout): Dropout(p=0.1, inplace=False)\n",
       "          )\n",
       "        )\n",
       "        (1): BertLayer(\n",
       "          (attention): BertAttention(\n",
       "            (self): BertSelfAttention(\n",
       "              (query): Linear(in_features=768, out_features=768, bias=True)\n",
       "              (key): Linear(in_features=768, out_features=768, bias=True)\n",
       "              (value): Linear(in_features=768, out_features=768, bias=True)\n",
       "              (dropout): Dropout(p=0.1, inplace=False)\n",
       "            )\n",
       "            (output): BertSelfOutput(\n",
       "              (dense): Linear(in_features=768, out_features=768, bias=True)\n",
       "              (LayerNorm): LayerNorm((768,), eps=1e-12, elementwise_affine=True)\n",
       "              (dropout): Dropout(p=0.1, inplace=False)\n",
       "            )\n",
       "          )\n",
       "          (intermediate): BertIntermediate(\n",
       "            (dense): Linear(in_features=768, out_features=3072, bias=True)\n",
       "          )\n",
       "          (output): BertOutput(\n",
       "            (dense): Linear(in_features=3072, out_features=768, bias=True)\n",
       "            (LayerNorm): LayerNorm((768,), eps=1e-12, elementwise_affine=True)\n",
       "            (dropout): Dropout(p=0.1, inplace=False)\n",
       "          )\n",
       "        )\n",
       "        (2): BertLayer(\n",
       "          (attention): BertAttention(\n",
       "            (self): BertSelfAttention(\n",
       "              (query): Linear(in_features=768, out_features=768, bias=True)\n",
       "              (key): Linear(in_features=768, out_features=768, bias=True)\n",
       "              (value): Linear(in_features=768, out_features=768, bias=True)\n",
       "              (dropout): Dropout(p=0.1, inplace=False)\n",
       "            )\n",
       "            (output): BertSelfOutput(\n",
       "              (dense): Linear(in_features=768, out_features=768, bias=True)\n",
       "              (LayerNorm): LayerNorm((768,), eps=1e-12, elementwise_affine=True)\n",
       "              (dropout): Dropout(p=0.1, inplace=False)\n",
       "            )\n",
       "          )\n",
       "          (intermediate): BertIntermediate(\n",
       "            (dense): Linear(in_features=768, out_features=3072, bias=True)\n",
       "          )\n",
       "          (output): BertOutput(\n",
       "            (dense): Linear(in_features=3072, out_features=768, bias=True)\n",
       "            (LayerNorm): LayerNorm((768,), eps=1e-12, elementwise_affine=True)\n",
       "            (dropout): Dropout(p=0.1, inplace=False)\n",
       "          )\n",
       "        )\n",
       "        (3): BertLayer(\n",
       "          (attention): BertAttention(\n",
       "            (self): BertSelfAttention(\n",
       "              (query): Linear(in_features=768, out_features=768, bias=True)\n",
       "              (key): Linear(in_features=768, out_features=768, bias=True)\n",
       "              (value): Linear(in_features=768, out_features=768, bias=True)\n",
       "              (dropout): Dropout(p=0.1, inplace=False)\n",
       "            )\n",
       "            (output): BertSelfOutput(\n",
       "              (dense): Linear(in_features=768, out_features=768, bias=True)\n",
       "              (LayerNorm): LayerNorm((768,), eps=1e-12, elementwise_affine=True)\n",
       "              (dropout): Dropout(p=0.1, inplace=False)\n",
       "            )\n",
       "          )\n",
       "          (intermediate): BertIntermediate(\n",
       "            (dense): Linear(in_features=768, out_features=3072, bias=True)\n",
       "          )\n",
       "          (output): BertOutput(\n",
       "            (dense): Linear(in_features=3072, out_features=768, bias=True)\n",
       "            (LayerNorm): LayerNorm((768,), eps=1e-12, elementwise_affine=True)\n",
       "            (dropout): Dropout(p=0.1, inplace=False)\n",
       "          )\n",
       "        )\n",
       "        (4): BertLayer(\n",
       "          (attention): BertAttention(\n",
       "            (self): BertSelfAttention(\n",
       "              (query): Linear(in_features=768, out_features=768, bias=True)\n",
       "              (key): Linear(in_features=768, out_features=768, bias=True)\n",
       "              (value): Linear(in_features=768, out_features=768, bias=True)\n",
       "              (dropout): Dropout(p=0.1, inplace=False)\n",
       "            )\n",
       "            (output): BertSelfOutput(\n",
       "              (dense): Linear(in_features=768, out_features=768, bias=True)\n",
       "              (LayerNorm): LayerNorm((768,), eps=1e-12, elementwise_affine=True)\n",
       "              (dropout): Dropout(p=0.1, inplace=False)\n",
       "            )\n",
       "          )\n",
       "          (intermediate): BertIntermediate(\n",
       "            (dense): Linear(in_features=768, out_features=3072, bias=True)\n",
       "          )\n",
       "          (output): BertOutput(\n",
       "            (dense): Linear(in_features=3072, out_features=768, bias=True)\n",
       "            (LayerNorm): LayerNorm((768,), eps=1e-12, elementwise_affine=True)\n",
       "            (dropout): Dropout(p=0.1, inplace=False)\n",
       "          )\n",
       "        )\n",
       "        (5): BertLayer(\n",
       "          (attention): BertAttention(\n",
       "            (self): BertSelfAttention(\n",
       "              (query): Linear(in_features=768, out_features=768, bias=True)\n",
       "              (key): Linear(in_features=768, out_features=768, bias=True)\n",
       "              (value): Linear(in_features=768, out_features=768, bias=True)\n",
       "              (dropout): Dropout(p=0.1, inplace=False)\n",
       "            )\n",
       "            (output): BertSelfOutput(\n",
       "              (dense): Linear(in_features=768, out_features=768, bias=True)\n",
       "              (LayerNorm): LayerNorm((768,), eps=1e-12, elementwise_affine=True)\n",
       "              (dropout): Dropout(p=0.1, inplace=False)\n",
       "            )\n",
       "          )\n",
       "          (intermediate): BertIntermediate(\n",
       "            (dense): Linear(in_features=768, out_features=3072, bias=True)\n",
       "          )\n",
       "          (output): BertOutput(\n",
       "            (dense): Linear(in_features=3072, out_features=768, bias=True)\n",
       "            (LayerNorm): LayerNorm((768,), eps=1e-12, elementwise_affine=True)\n",
       "            (dropout): Dropout(p=0.1, inplace=False)\n",
       "          )\n",
       "        )\n",
       "        (6): BertLayer(\n",
       "          (attention): BertAttention(\n",
       "            (self): BertSelfAttention(\n",
       "              (query): Linear(in_features=768, out_features=768, bias=True)\n",
       "              (key): Linear(in_features=768, out_features=768, bias=True)\n",
       "              (value): Linear(in_features=768, out_features=768, bias=True)\n",
       "              (dropout): Dropout(p=0.1, inplace=False)\n",
       "            )\n",
       "            (output): BertSelfOutput(\n",
       "              (dense): Linear(in_features=768, out_features=768, bias=True)\n",
       "              (LayerNorm): LayerNorm((768,), eps=1e-12, elementwise_affine=True)\n",
       "              (dropout): Dropout(p=0.1, inplace=False)\n",
       "            )\n",
       "          )\n",
       "          (intermediate): BertIntermediate(\n",
       "            (dense): Linear(in_features=768, out_features=3072, bias=True)\n",
       "          )\n",
       "          (output): BertOutput(\n",
       "            (dense): Linear(in_features=3072, out_features=768, bias=True)\n",
       "            (LayerNorm): LayerNorm((768,), eps=1e-12, elementwise_affine=True)\n",
       "            (dropout): Dropout(p=0.1, inplace=False)\n",
       "          )\n",
       "        )\n",
       "        (7): BertLayer(\n",
       "          (attention): BertAttention(\n",
       "            (self): BertSelfAttention(\n",
       "              (query): Linear(in_features=768, out_features=768, bias=True)\n",
       "              (key): Linear(in_features=768, out_features=768, bias=True)\n",
       "              (value): Linear(in_features=768, out_features=768, bias=True)\n",
       "              (dropout): Dropout(p=0.1, inplace=False)\n",
       "            )\n",
       "            (output): BertSelfOutput(\n",
       "              (dense): Linear(in_features=768, out_features=768, bias=True)\n",
       "              (LayerNorm): LayerNorm((768,), eps=1e-12, elementwise_affine=True)\n",
       "              (dropout): Dropout(p=0.1, inplace=False)\n",
       "            )\n",
       "          )\n",
       "          (intermediate): BertIntermediate(\n",
       "            (dense): Linear(in_features=768, out_features=3072, bias=True)\n",
       "          )\n",
       "          (output): BertOutput(\n",
       "            (dense): Linear(in_features=3072, out_features=768, bias=True)\n",
       "            (LayerNorm): LayerNorm((768,), eps=1e-12, elementwise_affine=True)\n",
       "            (dropout): Dropout(p=0.1, inplace=False)\n",
       "          )\n",
       "        )\n",
       "        (8): BertLayer(\n",
       "          (attention): BertAttention(\n",
       "            (self): BertSelfAttention(\n",
       "              (query): Linear(in_features=768, out_features=768, bias=True)\n",
       "              (key): Linear(in_features=768, out_features=768, bias=True)\n",
       "              (value): Linear(in_features=768, out_features=768, bias=True)\n",
       "              (dropout): Dropout(p=0.1, inplace=False)\n",
       "            )\n",
       "            (output): BertSelfOutput(\n",
       "              (dense): Linear(in_features=768, out_features=768, bias=True)\n",
       "              (LayerNorm): LayerNorm((768,), eps=1e-12, elementwise_affine=True)\n",
       "              (dropout): Dropout(p=0.1, inplace=False)\n",
       "            )\n",
       "          )\n",
       "          (intermediate): BertIntermediate(\n",
       "            (dense): Linear(in_features=768, out_features=3072, bias=True)\n",
       "          )\n",
       "          (output): BertOutput(\n",
       "            (dense): Linear(in_features=3072, out_features=768, bias=True)\n",
       "            (LayerNorm): LayerNorm((768,), eps=1e-12, elementwise_affine=True)\n",
       "            (dropout): Dropout(p=0.1, inplace=False)\n",
       "          )\n",
       "        )\n",
       "        (9): BertLayer(\n",
       "          (attention): BertAttention(\n",
       "            (self): BertSelfAttention(\n",
       "              (query): Linear(in_features=768, out_features=768, bias=True)\n",
       "              (key): Linear(in_features=768, out_features=768, bias=True)\n",
       "              (value): Linear(in_features=768, out_features=768, bias=True)\n",
       "              (dropout): Dropout(p=0.1, inplace=False)\n",
       "            )\n",
       "            (output): BertSelfOutput(\n",
       "              (dense): Linear(in_features=768, out_features=768, bias=True)\n",
       "              (LayerNorm): LayerNorm((768,), eps=1e-12, elementwise_affine=True)\n",
       "              (dropout): Dropout(p=0.1, inplace=False)\n",
       "            )\n",
       "          )\n",
       "          (intermediate): BertIntermediate(\n",
       "            (dense): Linear(in_features=768, out_features=3072, bias=True)\n",
       "          )\n",
       "          (output): BertOutput(\n",
       "            (dense): Linear(in_features=3072, out_features=768, bias=True)\n",
       "            (LayerNorm): LayerNorm((768,), eps=1e-12, elementwise_affine=True)\n",
       "            (dropout): Dropout(p=0.1, inplace=False)\n",
       "          )\n",
       "        )\n",
       "        (10): BertLayer(\n",
       "          (attention): BertAttention(\n",
       "            (self): BertSelfAttention(\n",
       "              (query): Linear(in_features=768, out_features=768, bias=True)\n",
       "              (key): Linear(in_features=768, out_features=768, bias=True)\n",
       "              (value): Linear(in_features=768, out_features=768, bias=True)\n",
       "              (dropout): Dropout(p=0.1, inplace=False)\n",
       "            )\n",
       "            (output): BertSelfOutput(\n",
       "              (dense): Linear(in_features=768, out_features=768, bias=True)\n",
       "              (LayerNorm): LayerNorm((768,), eps=1e-12, elementwise_affine=True)\n",
       "              (dropout): Dropout(p=0.1, inplace=False)\n",
       "            )\n",
       "          )\n",
       "          (intermediate): BertIntermediate(\n",
       "            (dense): Linear(in_features=768, out_features=3072, bias=True)\n",
       "          )\n",
       "          (output): BertOutput(\n",
       "            (dense): Linear(in_features=3072, out_features=768, bias=True)\n",
       "            (LayerNorm): LayerNorm((768,), eps=1e-12, elementwise_affine=True)\n",
       "            (dropout): Dropout(p=0.1, inplace=False)\n",
       "          )\n",
       "        )\n",
       "        (11): BertLayer(\n",
       "          (attention): BertAttention(\n",
       "            (self): BertSelfAttention(\n",
       "              (query): Linear(in_features=768, out_features=768, bias=True)\n",
       "              (key): Linear(in_features=768, out_features=768, bias=True)\n",
       "              (value): Linear(in_features=768, out_features=768, bias=True)\n",
       "              (dropout): Dropout(p=0.1, inplace=False)\n",
       "            )\n",
       "            (output): BertSelfOutput(\n",
       "              (dense): Linear(in_features=768, out_features=768, bias=True)\n",
       "              (LayerNorm): LayerNorm((768,), eps=1e-12, elementwise_affine=True)\n",
       "              (dropout): Dropout(p=0.1, inplace=False)\n",
       "            )\n",
       "          )\n",
       "          (intermediate): BertIntermediate(\n",
       "            (dense): Linear(in_features=768, out_features=3072, bias=True)\n",
       "          )\n",
       "          (output): BertOutput(\n",
       "            (dense): Linear(in_features=3072, out_features=768, bias=True)\n",
       "            (LayerNorm): LayerNorm((768,), eps=1e-12, elementwise_affine=True)\n",
       "            (dropout): Dropout(p=0.1, inplace=False)\n",
       "          )\n",
       "        )\n",
       "      )\n",
       "    )\n",
       "    (pooler): BertPooler(\n",
       "      (dense): Linear(in_features=768, out_features=768, bias=True)\n",
       "      (activation): Tanh()\n",
       "    )\n",
       "  )\n",
       "  (dropout): Dropout(p=0.1, inplace=False)\n",
       "  (classifier): Linear(in_features=768, out_features=2, bias=True)\n",
       ")"
      ]
     },
     "execution_count": 19,
     "metadata": {
      "tags": []
     },
     "output_type": "execute_result"
    }
   ],
   "source": [
    "from transformers import BertForSequenceClassification, AdamW, BertConfig\n",
    "model = BertForSequenceClassification.from_pretrained(\n",
    "    \"bert-base-uncased\",\n",
    "    num_labels = 2, \n",
    "    output_attentions = False, \n",
    "    output_hidden_states = False,\n",
    ")\n",
    "model.to(device)"
   ]
  },
  {
   "cell_type": "code",
   "execution_count": null,
   "metadata": {
    "id": "FGuHHk81Ommo"
   },
   "outputs": [],
   "source": [
    "optimizer = AdamW(model.parameters(),\n",
    "                  lr = 2e-5, \n",
    "                  eps = 1e-8 \n",
    "                )\n",
    "epochs = 4\n",
    "criterion = nn.CrossEntropyLoss()"
   ]
  },
  {
   "cell_type": "code",
   "execution_count": null,
   "metadata": {
    "colab": {
     "base_uri": "https://localhost:8080/"
    },
    "id": "6BWCuZolQpp_",
    "outputId": "936f6ce1-c946-49ff-9f80-bf4a5e9825b5"
   },
   "outputs": [
    {
     "name": "stdout",
     "output_type": "stream",
     "text": [
      "\n",
      "Epoch 1 / 4\n",
      "Training...\n",
      "  Accuracy: 0.9014797507788161\n",
      "  Training loss: 0.01634137871407305\n",
      "\n",
      "Validation...\n",
      "  Accuracy: 0.9427570093457944\n",
      "  Validation loss: 0.009837308370891227\n",
      "\n",
      "This epoch took: 0:07:15\n",
      "roc_auc score:  0.94400661687523\n",
      "F1 score: 0.9460946094609461\n",
      "\n",
      "\n",
      "\n",
      "Epoch 2 / 4\n",
      "Training...\n",
      "  Accuracy: 0.9680685358255452\n",
      "  Training loss: 0.007335280389116394\n",
      "\n",
      "Validation...\n",
      "  Accuracy: 0.9532710280373832\n",
      "  Validation loss: 0.011293363998558103\n",
      "\n",
      "This epoch took: 0:07:14\n",
      "roc_auc score:  0.9521870311443786\n",
      "F1 score: 0.9571734475374732\n",
      "\n",
      "\n",
      "\n",
      "Epoch 3 / 4\n",
      "Training...\n",
      "  Accuracy: 0.985202492211838\n",
      "  Training loss: 0.0036151895493783406\n",
      "\n",
      "Validation...\n",
      "  Accuracy: 0.9579439252336449\n",
      "  Validation loss: 0.013102064621128864\n",
      "\n",
      "This epoch took: 0:07:14\n",
      "roc_auc score:  0.9586225468374744\n",
      "F1 score: 0.9606986899563319\n",
      "\n",
      "\n",
      "\n",
      "Epoch 4 / 4\n",
      "Training...\n",
      "  Accuracy: 0.9932502596053998\n",
      "  Training loss: 0.0020287746871342684\n",
      "\n",
      "Validation...\n",
      "  Accuracy: 0.955607476635514\n",
      "  Validation loss: 0.014002995049824642\n",
      "\n",
      "This epoch took: 0:07:13\n",
      "roc_auc score:  0.9562703685995197\n",
      "F1 score: 0.9585152838427947\n",
      "\n",
      "\n",
      "\n",
      "==========\n",
      "Summary\n",
      "Total time 0:28:55 (h:mm:ss)\n"
     ]
    }
   ],
   "source": [
    "import random\n",
    "import numpy as np\n",
    "\n",
    "seed_val = 42\n",
    "\n",
    "random.seed(seed_val)\n",
    "torch.manual_seed(seed_val)\n",
    "torch.cuda.manual_seed_all(seed_val)\n",
    "\n",
    "training_stats = []\n",
    "total_t0 = time.time()\n",
    "best_accuracy = 0\n",
    "for epoch_i in range(0, epochs):\n",
    "    #Training\n",
    "    print(\"\")\n",
    "    print('Epoch {:} / {:}'.format(epoch_i + 1, epochs))\n",
    "    print('Training...')\n",
    "\n",
    "    t0 = time.time()\n",
    "    total_train_loss = 0\n",
    "    total_train_accuracy = 0\n",
    "    model.train()\n",
    "    for step, batch in enumerate(train_dataloader):\n",
    "\n",
    "        input_ids = batch[0].to(device)\n",
    "        input_mask = batch[1].to(device)\n",
    "        labels = batch[2].to(device)\n",
    "\n",
    "        model.zero_grad()        \n",
    "        out = model(input_ids, token_type_ids=None, attention_mask=input_mask, labels=labels)\n",
    "        loss = out[0]\n",
    "        logits = out[1]\n",
    "  \n",
    "        total_train_loss += loss.item()\n",
    "        loss.backward()\n",
    "        torch.nn.utils.clip_grad_norm_(model.parameters(), 1.0)\n",
    "        optimizer.step()\n",
    "\n",
    "        pred = torch.argmax(logits, dim = 1)\n",
    "        total_train_accuracy +=  torch.sum(pred == labels).item()\n",
    "        \n",
    "    avg_train_accuracy = total_train_accuracy / len(train_dataloader.dataset)\n",
    "    avg_train_loss = total_train_loss / len(train_dataloader.dataset)            \n",
    "    print(\"  Accuracy: {}\".format(avg_train_accuracy))\n",
    "    print(\"  Training loss: {}\".format(avg_train_loss))\n",
    "        \n",
    "\n",
    "    # Validation\n",
    "    print(\"\")\n",
    "    print(\"Validation...\")\n",
    "    model.eval()\n",
    "    total_eval_accuracy = 0\n",
    "    total_eval_loss = 0\n",
    "    y_true = []\n",
    "    y_pred = []\n",
    "\n",
    "    for batch in validation_dataloader:\n",
    "        input_ids = batch[0].to(device)\n",
    "        input_mask = batch[1].to(device)\n",
    "        labels = batch[2].to(device)\n",
    "        \n",
    "        with torch.no_grad():        \n",
    "            out = model(input_ids, token_type_ids=None, attention_mask=input_mask,labels=labels)\n",
    "            loss = out[0]\n",
    "            logits = out[1]\n",
    "\n",
    "        total_eval_loss += loss.item()\n",
    "        pred = torch.argmax(logits, dim = 1)\n",
    "        total_eval_accuracy += torch.sum(pred == labels).item()\n",
    "        y_true.append(labels.flatten())\n",
    "        y_pred.append(pred.flatten())\n",
    "        \n",
    "    avg_val_accuracy = total_eval_accuracy / len(validation_dataloader.dataset)\n",
    "    print(\"  Accuracy: {}\".format(avg_val_accuracy))\n",
    "    avg_val_loss = total_eval_loss / len(validation_dataloader.dataset)\n",
    "    print(\"  Validation loss: {}\".format(avg_val_loss))\n",
    "    training_time = format_time(time.time() - t0)\n",
    "    print()\n",
    "    \n",
    "    y_true = torch.cat(y_true).tolist()\n",
    "    y_pred = torch.cat(y_pred).tolist()\n",
    "    print(\"This epoch took: {:}\".format(training_time))\n",
    "    print('roc_auc score: ', roc_auc_score(y_true,y_pred))\n",
    "    print('F1 score:',f1_score(y_true, y_pred))\n",
    "    print()\n",
    "\n",
    "    training_stats.append(\n",
    "        {\n",
    "            'epoch': epoch_i + 1,\n",
    "            'Train Accur.': avg_train_accuracy,\n",
    "            'Training Loss': avg_train_loss,\n",
    "            'Valid. Loss': avg_val_loss,\n",
    "            'Valid. Accur.': avg_val_accuracy,\n",
    "            'Training Time': training_time,\n",
    "        }\n",
    "    )\n",
    "    print()\n",
    "\n",
    "    if avg_val_accuracy > best_accuracy:\n",
    "        best_accuracy = avg_val_accuracy\n",
    "        best_model = model\n",
    "\n",
    "print()\n",
    "print(\"=\"*10)\n",
    "print(\"Summary\")\n",
    "print(\"Total time {:} (h:mm:ss)\".format(format_time(time.time()-total_t0)))"
   ]
  },
  {
   "cell_type": "code",
   "execution_count": null,
   "metadata": {
    "id": "229MWxgyFeRZ"
   },
   "outputs": [],
   "source": [
    "# PATH1 = \"/content/drive/MyDrive/Colab Notebooks/'bert_finetune.pt'\"\n",
    "# torch.save(model, PATH1)"
   ]
  },
  {
   "cell_type": "markdown",
   "metadata": {
    "id": "r09QHHadsjHi"
   },
   "source": [
    "# 3.2 BERT+CNN"
   ]
  },
  {
   "cell_type": "code",
   "execution_count": null,
   "metadata": {
    "id": "M5PrL7fVJC2y"
   },
   "outputs": [],
   "source": [
    "PATH1 = \"/content/drive/MyDrive/Colab Notebooks/'bert_finetune.pt'\"\n",
    "the_best_model = torch.load(PATH1,map_location='cpu')"
   ]
  },
  {
   "cell_type": "markdown",
   "metadata": {
    "id": "SYYJYMUt5sCE"
   },
   "source": [
    "## **3.2.1 Without Freeze Parameters**\n",
    "best acc: 0.9439252336448598"
   ]
  },
  {
   "cell_type": "code",
   "execution_count": null,
   "metadata": {
    "id": "gTQArcpeXU3m"
   },
   "outputs": [],
   "source": [
    "class BertCNNClassifier(nn.Module):\n",
    "    def __init__(self, tuned_model, embed_num = 512, embed_dim = 768, dropout=0.1, kernel_num=3, kernel_sizes=[1,2], num_labels=2):\n",
    "        super().__init__()\n",
    "        self.num_labels = num_labels\n",
    "        self.embed_num = embed_num\n",
    "        self.embed_dim = embed_dim\n",
    "        self.dropout = dropout\n",
    "        self.kernel_num = kernel_num\n",
    "        self.kernel_sizes = kernel_sizes\n",
    "        self.softmax = nn.functional.softmax\n",
    "\n",
    "        self.bert = tuned_model.bert\n",
    "        self.convs = nn.ModuleList([nn.Conv2d(1, self.kernel_num, (k, self.embed_dim)) for k in self.kernel_sizes])\n",
    "        self.dropout = nn.Dropout(self.dropout)\n",
    "        self.classifier = nn.Linear(len(self.kernel_sizes)*self.kernel_num, self.num_labels)\n",
    "        \n",
    "    def forward(self, input_ids, attention_mask, token_type_ids = None):\n",
    "        output = self.bert(input_ids = input_ids, attention_mask = attention_mask, token_type_ids = token_type_ids) #16,512,768\n",
    "        output = output[0].unsqueeze(1) #16,1,512,768\n",
    "        output = [nn.functional.relu(conv(output)).squeeze(3) for conv in self.convs] #16,3,508,1 => #16,3,508\n",
    "        output = [nn.functional.max_pool1d(i, i.size(2)).squeeze(2) for i in output] #=> 16,3\n",
    "        output = torch.cat(output, 1)\n",
    "        output = self.dropout(output)\n",
    "        logits = self.classifier(output)\n",
    "        return self.softmax(logits, 1)"
   ]
  },
  {
   "cell_type": "code",
   "execution_count": null,
   "metadata": {
    "id": "KhAjGZ6FkUtN"
   },
   "outputs": [],
   "source": [
    "# Initializing model\n",
    "model2 = BertCNNClassifier(the_best_model).cuda()\n",
    "# set parameters\n",
    "epochs = 4\n",
    "learning_rate = 5e-5\n",
    "optimizer = AdamW(model2.parameters(), lr = learning_rate)\n",
    "criterion = nn.CrossEntropyLoss()"
   ]
  },
  {
   "cell_type": "code",
   "execution_count": null,
   "metadata": {
    "colab": {
     "base_uri": "https://localhost:8080/"
    },
    "id": "iUXcJCtq-heh",
    "outputId": "ad140d99-cbaf-4783-deea-f5d4bddeb285"
   },
   "outputs": [
    {
     "name": "stdout",
     "output_type": "stream",
     "text": [
      "\n",
      "Epoch 1 / 4\n",
      "Training...\n",
      "  Accuracy: 0.9749480789200415\n",
      "  Training loss: 0.02163551350898832\n",
      "\n",
      "Validation...\n",
      "  Accuracy: 0.9392523364485982\n",
      "  Validation loss: 0.023378211900452587\n",
      "  This epoch took: 0:07:24\n",
      "\n",
      "  roc_auc score:  0.9392280678614414\n",
      "  F1 score: 0.9436008676789588\n",
      "\n",
      "Epoch 2 / 4\n",
      "Training...\n",
      "  Accuracy: 0.9815680166147456\n",
      "  Training loss: 0.020834453210528642\n",
      "\n",
      "Validation...\n",
      "  Accuracy: 0.9357476635514018\n",
      "  Validation loss: 0.0238601181690938\n",
      "  This epoch took: 0:07:24\n",
      "\n",
      "  roc_auc score:  0.9340648167993889\n",
      "  F1 score: 0.9414270500532481\n",
      "\n",
      "Epoch 3 / 4\n",
      "Training...\n",
      "  Accuracy: 0.9761163032191069\n",
      "  Training loss: 0.02114686740877596\n",
      "\n",
      "Validation...\n",
      "  Accuracy: 0.9228971962616822\n",
      "  Validation loss: 0.024579555353271627\n",
      "  This epoch took: 0:07:24\n",
      "\n",
      "  roc_auc score:  0.9194928527855176\n",
      "  F1 score: 0.9309623430962344\n",
      "\n",
      "Epoch 4 / 4\n",
      "Training...\n",
      "  Accuracy: 0.9754672897196262\n",
      "  Training loss: 0.021134121124927623\n",
      "\n",
      "Validation...\n",
      "  Accuracy: 0.9439252336448598\n",
      "  Validation loss: 0.0232130039448493\n",
      "  This epoch took: 0:07:24\n",
      "\n",
      "  roc_auc score:  0.9448941794580099\n",
      "  F1 score: 0.9473684210526316\n",
      "===\n",
      "Summary\n",
      "Total time 0:29:36 (h:mm:ss)\n",
      "best acc: 0.9439252336448598\n"
     ]
    }
   ],
   "source": [
    "import random\n",
    "import numpy as np\n",
    "\n",
    "seed_val = 42\n",
    "\n",
    "random.seed(seed_val)\n",
    "torch.manual_seed(seed_val)\n",
    "torch.cuda.manual_seed_all(seed_val)\n",
    "\n",
    "training_stats = []\n",
    "total_t0 = time.time()\n",
    "best_accuracy = 0\n",
    "for epoch_i in range(0, epochs):\n",
    "    #Training\n",
    "    print(\"\")\n",
    "    print('Epoch {:} / {:}'.format(epoch_i + 1, epochs))\n",
    "    print('Training...')\n",
    "\n",
    "    t0 = time.time()\n",
    "    total_train_loss = 0\n",
    "    total_train_accuracy = 0\n",
    "    model2.train()\n",
    "    for step, batch in enumerate(train_dataloader):\n",
    "\n",
    "        input_ids = batch[0].to(device)\n",
    "        input_mask = batch[1].to(device)\n",
    "        labels = batch[2].to(device)\n",
    "\n",
    "        model2.zero_grad()        \n",
    "        out = model2(input_ids = input_ids, attention_mask = input_mask, token_type_ids = None)\n",
    "        loss = criterion(out, labels)\n",
    "        total_train_loss += loss.item()\n",
    "\n",
    "        loss.backward()\n",
    "        torch.nn.utils.clip_grad_norm_(model2.parameters(), 1.0)\n",
    "        optimizer.step()\n",
    "\n",
    "        pred = torch.argmax(out, dim = 1)\n",
    "        total_train_accuracy +=  torch.sum(pred == labels).item()\n",
    "        \n",
    "    avg_train_accuracy = total_train_accuracy / len(train_dataloader.dataset)\n",
    "    avg_train_loss = total_train_loss / len(train_dataloader.dataset)            \n",
    "    print(\"  Accuracy: {}\".format(avg_train_accuracy))\n",
    "    print(\"  Training loss: {}\".format(avg_train_loss))\n",
    "        \n",
    "    # Validation\n",
    "    print(\"\")\n",
    "    print(\"Validation...\")\n",
    "    model2.eval()\n",
    "    total_eval_accuracy = 0\n",
    "    total_eval_loss = 0\n",
    "    y_true = []\n",
    "    y_pred = []\n",
    "\n",
    "    for batch in validation_dataloader:\n",
    "        input_ids = batch[0].to(device)\n",
    "        input_mask = batch[1].to(device)\n",
    "        labels = batch[2].to(device)\n",
    "        \n",
    "        with torch.no_grad():        \n",
    "            out = model2(input_ids = input_ids, attention_mask = input_mask, token_type_ids = None)\n",
    "        loss = criterion(out, labels)\n",
    "        total_eval_loss += loss.item()\n",
    "        pred = torch.argmax(out, dim = 1)\n",
    "        total_eval_accuracy += torch.sum(pred == labels).item()\n",
    "        y_true.append(labels.flatten())\n",
    "        y_pred.append(pred.flatten())\n",
    "        \n",
    "    avg_val_accuracy = total_eval_accuracy / len(validation_dataloader.dataset)\n",
    "    print(\"  Accuracy: {}\".format(avg_val_accuracy))\n",
    "    avg_val_loss = total_eval_loss / len(validation_dataloader.dataset)\n",
    "    print(\"  Validation loss: {}\".format(avg_val_loss))\n",
    "    training_time = format_time(time.time() - t0)\n",
    "    print(\"  This epoch took: {:}\".format(training_time))\n",
    "    print()\n",
    "    y_true = torch.cat(y_true).tolist()\n",
    "    y_pred = torch.cat(y_pred).tolist()\n",
    "    print('  roc_auc score: ', roc_auc_score(y_true,y_pred))\n",
    "    print('  F1 score:',f1_score(y_true, y_pred))\n",
    "\n",
    "\n",
    "    training_stats.append(\n",
    "        {\n",
    "            'epoch': epoch_i + 1,\n",
    "            'Train Accur.': avg_train_accuracy,\n",
    "            'Training Loss': avg_train_loss,\n",
    "            'Valid. Loss': avg_val_loss,\n",
    "            'Valid. Accur.': avg_val_accuracy,\n",
    "            'Training Time': training_time,\n",
    "        }\n",
    "    )\n",
    "\n",
    "    if avg_val_accuracy > best_accuracy:\n",
    "        best_accuracy = avg_val_accuracy\n",
    "        best_model = model2\n",
    "\n",
    "print(\"===\")\n",
    "print(\"Summary\")\n",
    "print(\"Total time {:} (h:mm:ss)\".format(format_time(time.time()-total_t0)))\n",
    "print('best acc:',best_accuracy)"
   ]
  },
  {
   "cell_type": "code",
   "execution_count": null,
   "metadata": {
    "id": "Oeba2ZmuhDr8"
   },
   "outputs": [],
   "source": [
    "PATH2 = \"/content/drive/MyDrive/Colab Notebooks/'cnn1.pt'\"\n",
    "torch.save(model2, PATH2)"
   ]
  },
  {
   "cell_type": "markdown",
   "metadata": {
    "id": "bg68AMvDA1mi"
   },
   "source": [
    "## **3.2.2 With Freeze Parameters**\n",
    "best acc: 0.9591121495327103"
   ]
  },
  {
   "cell_type": "code",
   "execution_count": null,
   "metadata": {
    "id": "2YD6MCvkIBtX"
   },
   "outputs": [],
   "source": [
    "class BertCNNClassifier(nn.Module):\n",
    "    def __init__(self, tuned_model, embed_num = 512, embed_dim = 768, dropout=0.1, kernel_num=3, kernel_sizes=[1,2], num_labels=2):\n",
    "        super().__init__()\n",
    "        self.num_labels = num_labels\n",
    "        self.embed_num = embed_num\n",
    "        self.embed_dim = embed_dim\n",
    "        self.dropout = dropout\n",
    "        self.kernel_num = kernel_num\n",
    "        self.kernel_sizes = kernel_sizes\n",
    "        self.softmax = nn.functional.softmax\n",
    "\n",
    "        self.bert = tuned_model.bert\n",
    "        self.convs = nn.ModuleList([nn.Conv2d(1, self.kernel_num, (k, self.embed_dim)) for k in self.kernel_sizes])\n",
    "        self.dropout = nn.Dropout(self.dropout)\n",
    "        self.classifier = nn.Linear(len(self.kernel_sizes)*self.kernel_num, self.num_labels)\n",
    "        \n",
    "    def forward(self, input_ids, attention_mask, token_type_ids = None):\n",
    "        output = self.bert(input_ids = input_ids, attention_mask = attention_mask, token_type_ids = token_type_ids) #16,512,768\n",
    "        output = output[0].unsqueeze(1) #16,1,512,768\n",
    "        output = [nn.functional.relu(conv(output)).squeeze(3) for conv in self.convs] #16,3,508,1 => #16,3,508\n",
    "        output = [nn.functional.max_pool1d(i, i.size(2)).squeeze(2) for i in output] #=> 16,3\n",
    "        output = torch.cat(output, 1)\n",
    "        output = self.dropout(output)\n",
    "        logits = self.classifier(output)\n",
    "        return self.softmax(logits, 1)"
   ]
  },
  {
   "cell_type": "code",
   "execution_count": null,
   "metadata": {
    "id": "79WPystSxBa3"
   },
   "outputs": [],
   "source": [
    "# Initializing model\n",
    "model3 = BertCNNClassifier(the_best_model).cuda()\n",
    "for param in model3.bert.parameters():\n",
    "    param.requires_grad = False\n",
    "# set parameters\n",
    "epochs = 4\n",
    "learning_rate = 5e-5\n",
    "optimizer = AdamW(model3.parameters(), lr = learning_rate)\n",
    "criterion = nn.CrossEntropyLoss()"
   ]
  },
  {
   "cell_type": "code",
   "execution_count": null,
   "metadata": {
    "colab": {
     "base_uri": "https://localhost:8080/"
    },
    "id": "xHI4n4brxPvw",
    "outputId": "3dd4eeeb-d6dd-418a-d28f-a75f4736005a"
   },
   "outputs": [
    {
     "name": "stdout",
     "output_type": "stream",
     "text": [
      "\n",
      "Epoch 1 / 4\n",
      "Training...\n",
      "  Accuracy: 0.9780633437175493\n",
      "  Training loss: 0.0245809032429911\n",
      "\n",
      "Validation...\n",
      "  Accuracy: 0.9591121495327103\n",
      "  Validation loss: 0.022670826517811445\n",
      "  This epoch took: 0:02:42\n",
      "\n",
      "  roc_auc score:  0.9587407053237269\n",
      "  F1 score: 0.9622437971952535\n",
      "\n",
      "Epoch 2 / 4\n",
      "Training...\n",
      "  Accuracy: 0.9968847352024922\n",
      "  Training loss: 0.020661595914810742\n",
      "\n",
      "Validation...\n",
      "  Accuracy: 0.9567757009345794\n",
      "  Validation loss: 0.02231573055837756\n",
      "  This epoch took: 0:02:42\n",
      "\n",
      "  roc_auc score:  0.9561961760616403\n",
      "  F1 score: 0.960172228202368\n",
      "\n",
      "Epoch 3 / 4\n",
      "Training...\n",
      "  Accuracy: 0.9974039460020768\n",
      "  Training loss: 0.02022851565669011\n",
      "\n",
      "Validation...\n",
      "  Accuracy: 0.9579439252336449\n",
      "  Validation loss: 0.022223981567353845\n",
      "  This epoch took: 0:02:42\n",
      "\n",
      "  roc_auc score:  0.9574684406926836\n",
      "  F1 score: 0.9612068965517242\n",
      "\n",
      "Epoch 4 / 4\n",
      "Training...\n",
      "  Accuracy: 0.9972741433021807\n",
      "  Training loss: 0.020046465187831583\n",
      "\n",
      "Validation...\n",
      "  Accuracy: 0.9591121495327103\n",
      "  Validation loss: 0.02219131442709504\n",
      "  This epoch took: 0:02:42\n",
      "\n",
      "  roc_auc score:  0.9589330563478586\n",
      "  F1 score: 0.9621621621621621\n",
      "===\n",
      "Summary\n",
      "Total time 0:10:49 (h:mm:ss)\n",
      "best acc: 0.9591121495327103\n"
     ]
    }
   ],
   "source": [
    "import random\n",
    "import numpy as np\n",
    "\n",
    "seed_val = 42\n",
    "\n",
    "random.seed(seed_val)\n",
    "torch.manual_seed(seed_val)\n",
    "torch.cuda.manual_seed_all(seed_val)\n",
    "\n",
    "training_stats = []\n",
    "total_t0 = time.time()\n",
    "best_accuracy = 0\n",
    "for epoch_i in range(0, epochs):\n",
    "    #Training\n",
    "    print(\"\")\n",
    "    print('Epoch {:} / {:}'.format(epoch_i + 1, epochs))\n",
    "    print('Training...')\n",
    "\n",
    "    t0 = time.time()\n",
    "    total_train_loss = 0\n",
    "    total_train_accuracy = 0\n",
    "    model3.train()\n",
    "    for step, batch in enumerate(train_dataloader):\n",
    "\n",
    "        input_ids = batch[0].to(device)\n",
    "        input_mask = batch[1].to(device)\n",
    "        labels = batch[2].to(device)\n",
    "\n",
    "        model3.zero_grad()        \n",
    "        out = model3(input_ids = input_ids, attention_mask = input_mask, token_type_ids = None)\n",
    "        loss = criterion(out, labels)\n",
    "        total_train_loss += loss.item()\n",
    "\n",
    "        loss.backward()\n",
    "        torch.nn.utils.clip_grad_norm_(model3.parameters(), 1.0)\n",
    "        optimizer.step()\n",
    "\n",
    "        pred = torch.argmax(out, dim = 1)\n",
    "        total_train_accuracy +=  torch.sum(pred == labels).item()\n",
    "        \n",
    "    avg_train_accuracy = total_train_accuracy / len(train_dataloader.dataset)\n",
    "    avg_train_loss = total_train_loss / len(train_dataloader.dataset)            \n",
    "    print(\"  Accuracy: {}\".format(avg_train_accuracy))\n",
    "    print(\"  Training loss: {}\".format(avg_train_loss))\n",
    "        \n",
    "    # Validation\n",
    "    print(\"\")\n",
    "    print(\"Validation...\")\n",
    "    model3.eval()\n",
    "    total_eval_accuracy = 0\n",
    "    total_eval_loss = 0\n",
    "    y_true = []\n",
    "    y_pred = []\n",
    "\n",
    "    for batch in validation_dataloader:\n",
    "        input_ids = batch[0].to(device)\n",
    "        input_mask = batch[1].to(device)\n",
    "        labels = batch[2].to(device)\n",
    "        \n",
    "        with torch.no_grad():        \n",
    "            out = model3(input_ids = input_ids, attention_mask = input_mask, token_type_ids = None)\n",
    "        loss = criterion(out, labels)\n",
    "        total_eval_loss += loss.item()\n",
    "        pred = torch.argmax(out, dim = 1)\n",
    "        total_eval_accuracy += torch.sum(pred == labels).item()\n",
    "        y_true.append(labels.flatten())\n",
    "        y_pred.append(pred.flatten())\n",
    "        \n",
    "    avg_val_accuracy = total_eval_accuracy / len(validation_dataloader.dataset)\n",
    "    print(\"  Accuracy: {}\".format(avg_val_accuracy))\n",
    "    avg_val_loss = total_eval_loss / len(validation_dataloader.dataset)\n",
    "    print(\"  Validation loss: {}\".format(avg_val_loss))\n",
    "    training_time = format_time(time.time() - t0)\n",
    "    print(\"  This epoch took: {:}\".format(training_time))\n",
    "    print()\n",
    "    y_true = torch.cat(y_true).tolist()\n",
    "    y_pred = torch.cat(y_pred).tolist()\n",
    "    print('  roc_auc score: ', roc_auc_score(y_true,y_pred))\n",
    "    print('  F1 score:',f1_score(y_true, y_pred))\n",
    "\n",
    "\n",
    "    training_stats.append(\n",
    "        {\n",
    "            'epoch': epoch_i + 1,\n",
    "            'Train Accur.': avg_train_accuracy,\n",
    "            'Training Loss': avg_train_loss,\n",
    "            'Valid. Loss': avg_val_loss,\n",
    "            'Valid. Accur.': avg_val_accuracy,\n",
    "            'Training Time': training_time,\n",
    "        }\n",
    "    )\n",
    "\n",
    "    if avg_val_accuracy > best_accuracy:\n",
    "        best_accuracy = avg_val_accuracy\n",
    "        best_model = model3\n",
    "\n",
    "print(\"===\")\n",
    "print(\"Summary\")\n",
    "print(\"Total time {:} (h:mm:ss)\".format(format_time(time.time()-total_t0)))\n",
    "print('best acc:',best_accuracy)"
   ]
  },
  {
   "cell_type": "code",
   "execution_count": null,
   "metadata": {
    "id": "GnvR9pPchNxk"
   },
   "outputs": [],
   "source": [
    "PATH3 = \"/content/drive/MyDrive/Colab Notebooks/'cnn3.pt'\"\n",
    "torch.save(model3, PATH3)"
   ]
  },
  {
   "cell_type": "markdown",
   "metadata": {
    "id": "qQJRCGvxEeNq"
   },
   "source": [
    "#3.3 BERT+Bidirectional LSTM"
   ]
  },
  {
   "cell_type": "markdown",
   "metadata": {
    "id": "6T_bhYg8zKmP"
   },
   "source": [
    "## **3.3.1 Without Freeze Parameters**\n",
    "best acc: 0.9345794392523364"
   ]
  },
  {
   "cell_type": "code",
   "execution_count": null,
   "metadata": {
    "id": "jlNZeaLTEjGv"
   },
   "outputs": [],
   "source": [
    "class BertLstmClassifier(nn.Module):\n",
    "    def __init__(self, model_tune):\n",
    "        super().__init__()\n",
    "        self.bert = model_tune.bert\n",
    "        self.lstm = nn.LSTM(input_size = 768, \n",
    "                            hidden_size = 768, \n",
    "                            num_layers = 1, \n",
    "                            batch_first = True, \n",
    "                            bidirectional = True)\n",
    "        self.classifier = nn.Linear(768 * 2, 2)\n",
    "        self.softmax = nn.Softmax(dim = 1)\n",
    "\n",
    "    def forward(self, input_ids, attention_mask, token_type_ids):\n",
    "        bert_output = self.bert(input_ids = input_ids, attention_mask = attention_mask, token_type_ids = token_type_ids)\n",
    "        out, _ = self.lstm(bert_output[0])\n",
    "        logits = self.classifier(out[:, 1, :])\n",
    "        return self.softmax(logits)"
   ]
  },
  {
   "cell_type": "code",
   "execution_count": null,
   "metadata": {
    "id": "rx1ESjulxNOH"
   },
   "outputs": [],
   "source": [
    "# Initializing model\n",
    "model4 = BertLstmClassifier(the_best_model).cuda()\n",
    "# set parameters\n",
    "epochs = 6\n",
    "learning_rate = 5e-5\n",
    "optimizer = AdamW(model4.parameters(), lr = learning_rate)\n",
    "criterion = nn.CrossEntropyLoss()"
   ]
  },
  {
   "cell_type": "code",
   "execution_count": null,
   "metadata": {
    "colab": {
     "base_uri": "https://localhost:8080/"
    },
    "id": "TwhtA0_iAarb",
    "outputId": "aaf0d089-af60-4018-945c-337b9c9bb9ac"
   },
   "outputs": [
    {
     "name": "stdout",
     "output_type": "stream",
     "text": [
      "\n",
      "Epoch 1 / 6\n",
      "Training...\n",
      "  Accuracy: 0.9637850467289719\n",
      "  Training loss: 0.022016916648404498\n",
      "\n",
      "Validation...\n",
      "  Accuracy: 0.927570093457944\n",
      "  Validation loss: 0.02422226070661411\n",
      "  This epoch took: 0:08:31\n",
      "\n",
      "  roc_auc score:  0.9243895602855589\n",
      "  F1 score: 0.9350104821802935\n",
      "\n",
      "Epoch 2 / 6\n",
      "Training...\n",
      "  Accuracy: 0.9667705088265836\n",
      "  Training loss: 0.021657877548492337\n",
      "\n",
      "Validation...\n",
      "  Accuracy: 0.9217289719626168\n",
      "  Validation loss: 0.024612341459109403\n",
      "  This epoch took: 0:08:30\n",
      "\n",
      "  roc_auc score:  0.9180282371303425\n",
      "  F1 score: 0.9301355578727842\n",
      "\n",
      "Epoch 3 / 6\n",
      "Training...\n",
      "  Accuracy: 0.9607995846313603\n",
      "  Training loss: 0.022032600047061004\n",
      "\n",
      "Validation...\n",
      "  Accuracy: 0.9065420560747663\n",
      "  Validation loss: 0.02558620500369607\n",
      "  This epoch took: 0:08:30\n",
      "\n",
      "  roc_auc score:  0.9011040948785165\n",
      "  F1 score: 0.9180327868852459\n",
      "\n",
      "Epoch 4 / 6\n",
      "Training...\n",
      "  Accuracy: 0.9596313603322949\n",
      "  Training loss: 0.02209458248699442\n",
      "\n",
      "Validation...\n",
      "  Accuracy: 0.9322429906542056\n",
      "  Validation loss: 0.023964609115201735\n",
      "  This epoch took: 0:08:30\n",
      "\n",
      "  roc_auc score:  0.9327485862199727\n",
      "  F1 score: 0.9366812227074236\n",
      "\n",
      "Epoch 5 / 6\n",
      "Training...\n",
      "  Accuracy: 0.9502855659397715\n",
      "  Training loss: 0.02268608755055865\n",
      "\n",
      "Validation...\n",
      "  Accuracy: 0.9345794392523364\n",
      "  Validation loss: 0.023826131823463974\n",
      "  This epoch took: 0:08:30\n",
      "\n",
      "  roc_auc score:  0.9351007644579272\n",
      "  F1 score: 0.9388646288209608\n",
      "\n",
      "Epoch 6 / 6\n",
      "Training...\n",
      "  Accuracy: 0.9491173416407062\n",
      "  Training loss: 0.02276955447851188\n",
      "\n",
      "Validation...\n",
      "  Accuracy: 0.927570093457944\n",
      "  Validation loss: 0.024264535475000043\n",
      "  This epoch took: 0:08:30\n",
      "\n",
      "  roc_auc score:  0.9268901235992723\n",
      "  F1 score: 0.9331896551724138\n",
      "===\n",
      "Summary\n",
      "Total time 0:51:01 (h:mm:ss)\n",
      "best acc: 0.9345794392523364\n"
     ]
    }
   ],
   "source": [
    "import random\n",
    "import numpy as np\n",
    "\n",
    "seed_val = 42\n",
    "\n",
    "random.seed(seed_val)\n",
    "torch.manual_seed(seed_val)\n",
    "torch.cuda.manual_seed_all(seed_val)\n",
    "\n",
    "training_stats = []\n",
    "total_t0 = time.time()\n",
    "best_accuracy = 0\n",
    "for epoch_i in range(0, epochs):\n",
    "    #Training\n",
    "    print(\"\")\n",
    "    print('Epoch {:} / {:}'.format(epoch_i + 1, epochs))\n",
    "    print('Training...')\n",
    "\n",
    "    t0 = time.time()\n",
    "    total_train_loss = 0\n",
    "    total_train_accuracy = 0\n",
    "    model4.train()\n",
    "    for step, batch in enumerate(train_dataloader):\n",
    "\n",
    "        input_ids = batch[0].to(device)\n",
    "        input_mask = batch[1].to(device)\n",
    "        labels = batch[2].to(device)\n",
    "\n",
    "        model4.zero_grad()        \n",
    "        out = model4(input_ids = input_ids, attention_mask = input_mask, token_type_ids = None)\n",
    "        loss = criterion(out, labels)\n",
    "        total_train_loss += loss.item()\n",
    "\n",
    "        loss.backward()\n",
    "        torch.nn.utils.clip_grad_norm_(model4.parameters(), 1.0)\n",
    "        optimizer.step()\n",
    "\n",
    "        pred = torch.argmax(out, dim = 1)\n",
    "        total_train_accuracy +=  torch.sum(pred == labels).item()\n",
    "        \n",
    "    avg_train_accuracy = total_train_accuracy / len(train_dataloader.dataset)\n",
    "    avg_train_loss = total_train_loss / len(train_dataloader.dataset)            \n",
    "    print(\"  Accuracy: {}\".format(avg_train_accuracy))\n",
    "    print(\"  Training loss: {}\".format(avg_train_loss))\n",
    "        \n",
    "    # Validation\n",
    "    print(\"\")\n",
    "    print(\"Validation...\")\n",
    "    model4.eval()\n",
    "    total_eval_accuracy = 0\n",
    "    total_eval_loss = 0\n",
    "    y_true = []\n",
    "    y_pred = []\n",
    "\n",
    "    for batch in validation_dataloader:\n",
    "        input_ids = batch[0].to(device)\n",
    "        input_mask = batch[1].to(device)\n",
    "        labels = batch[2].to(device)\n",
    "        \n",
    "        with torch.no_grad():        \n",
    "            out = model4(input_ids = input_ids, attention_mask = input_mask, token_type_ids = None)\n",
    "        loss = criterion(out, labels)\n",
    "        total_eval_loss += loss.item()\n",
    "        pred = torch.argmax(out, dim = 1)\n",
    "        total_eval_accuracy += torch.sum(pred == labels).item()\n",
    "        y_true.append(labels.flatten())\n",
    "        y_pred.append(pred.flatten())\n",
    "        \n",
    "    avg_val_accuracy = total_eval_accuracy / len(validation_dataloader.dataset)\n",
    "    print(\"  Accuracy: {}\".format(avg_val_accuracy))\n",
    "    avg_val_loss = total_eval_loss / len(validation_dataloader.dataset)\n",
    "    print(\"  Validation loss: {}\".format(avg_val_loss))\n",
    "    training_time = format_time(time.time() - t0)\n",
    "    print(\"  This epoch took: {:}\".format(training_time))\n",
    "    print()\n",
    "    y_true = torch.cat(y_true).tolist()\n",
    "    y_pred = torch.cat(y_pred).tolist()\n",
    "    print('  roc_auc score: ', roc_auc_score(y_true,y_pred))\n",
    "    print('  F1 score:',f1_score(y_true, y_pred))\n",
    "\n",
    "\n",
    "    training_stats.append(\n",
    "        {\n",
    "            'epoch': epoch_i + 1,\n",
    "            'Train Accur.': avg_train_accuracy,\n",
    "            'Training Loss': avg_train_loss,\n",
    "            'Valid. Loss': avg_val_loss,\n",
    "            'Valid. Accur.': avg_val_accuracy,\n",
    "            'Training Time': training_time,\n",
    "        }\n",
    "    )\n",
    "\n",
    "    if avg_val_accuracy > best_accuracy:\n",
    "        best_accuracy = avg_val_accuracy\n",
    "        best_model = model4\n",
    "\n",
    "print(\"===\")\n",
    "print(\"Summary\")\n",
    "print(\"Total time {:} (h:mm:ss)\".format(format_time(time.time()-total_t0)))\n",
    "print('best acc:',best_accuracy)"
   ]
  },
  {
   "cell_type": "code",
   "execution_count": null,
   "metadata": {
    "id": "xRbeNDj_kp4G"
   },
   "outputs": [],
   "source": [
    "PATH4 = \"/content/drive/MyDrive/Colab Notebooks/'lstm1.pt'\"\n",
    "torch.save(model4, PATH4)"
   ]
  },
  {
   "cell_type": "markdown",
   "metadata": {
    "id": "AaWUyMnNzQOI"
   },
   "source": [
    "## **3.3.2 With Freeze Parameters**\n",
    "best acc: 0.9614485981308412"
   ]
  },
  {
   "cell_type": "code",
   "execution_count": null,
   "metadata": {
    "id": "OUytIdW6_5qq"
   },
   "outputs": [],
   "source": [
    "class BertLstmClassifier(nn.Module):\n",
    "    def __init__(self, model_tune):\n",
    "        super().__init__()\n",
    "        self.bert = model_tune.bert\n",
    "        self.lstm = nn.LSTM(input_size = 768, \n",
    "                            hidden_size = 768, \n",
    "                            num_layers = 2, \n",
    "                            batch_first = True, \n",
    "                            bidirectional = True)\n",
    "        self.classifier = nn.Linear(768 * 2, 2)\n",
    "        self.softmax = nn.Softmax(dim = 1)\n",
    "\n",
    "    def forward(self, input_ids, attention_mask, token_type_ids):\n",
    "        bert_output = self.bert(input_ids = input_ids, attention_mask = attention_mask, token_type_ids = token_type_ids)\n",
    "        out, _ = self.lstm(bert_output[0])\n",
    "        logits = self.classifier(out[:, 1, :])\n",
    "        return self.softmax(logits)"
   ]
  },
  {
   "cell_type": "code",
   "execution_count": null,
   "metadata": {
    "id": "I0leuOXrzTFf"
   },
   "outputs": [],
   "source": [
    "model5 = BertLstmClassifier(the_best_model).cuda()\n",
    "for param in model5.bert.parameters():\n",
    "    param.requires_grad = False\n",
    "# set parameters\n",
    "epochs = 10\n",
    "learning_rate = 5e-5\n",
    "optimizer = AdamW(model5.parameters(), lr = learning_rate)\n",
    "criterion = nn.CrossEntropyLoss()"
   ]
  },
  {
   "cell_type": "code",
   "execution_count": null,
   "metadata": {
    "colab": {
     "base_uri": "https://localhost:8080/"
    },
    "id": "jZ_jyz063VpW",
    "outputId": "124bcfc4-c738-4320-af29-253a3e025566"
   },
   "outputs": [
    {
     "name": "stdout",
     "output_type": "stream",
     "text": [
      "\n",
      "Epoch 1 / 10\n",
      "Training...\n",
      "  Accuracy: 0.994288681204569\n",
      "  Training loss: 0.020469989283310168\n",
      "\n",
      "Validation...\n",
      "  Accuracy: 0.9602803738317757\n",
      "  Validation loss: 0.022211515597093886\n",
      "  This epoch took: 0:03:16\n",
      "\n",
      "  roc_auc score:  0.9592435658582428\n",
      "  F1 score: 0.9635974304068522\n",
      "\n",
      "Epoch 2 / 10\n",
      "Training...\n",
      "  Accuracy: 0.9974039460020768\n",
      "  Training loss: 0.019768247409865863\n",
      "\n",
      "Validation...\n",
      "  Accuracy: 0.9614485981308412\n",
      "  Validation loss: 0.022178327125088076\n",
      "  This epoch took: 0:03:17\n",
      "\n",
      "  roc_auc score:  0.960515830489286\n",
      "  F1 score: 0.9646302250803859\n",
      "\n",
      "Epoch 3 / 10\n",
      "Training...\n",
      "  Accuracy: 0.9981827622014537\n",
      "  Training loss: 0.019703331251598715\n",
      "\n",
      "Validation...\n",
      "  Accuracy: 0.9579439252336449\n",
      "  Validation loss: 0.022269479825953457\n",
      "  This epoch took: 0:03:17\n",
      "\n",
      "  roc_auc score:  0.9572760896685517\n",
      "  F1 score: 0.9612903225806452\n",
      "\n",
      "Epoch 4 / 10\n",
      "Training...\n",
      "  Accuracy: 0.9983125649013499\n",
      "  Training loss: 0.019704241765931885\n",
      "\n",
      "Validation...\n",
      "  Accuracy: 0.9579439252336449\n",
      "  Validation loss: 0.0223606564452715\n",
      "  This epoch took: 0:03:17\n",
      "\n",
      "  roc_auc score:  0.9572760896685517\n",
      "  F1 score: 0.9612903225806452\n",
      "\n",
      "Epoch 5 / 10\n",
      "Training...\n",
      "  Accuracy: 0.9980529595015576\n",
      "  Training loss: 0.01972182229671894\n",
      "\n",
      "Validation...\n",
      "  Accuracy: 0.9602803738317757\n",
      "  Validation loss: 0.02224170618525175\n",
      "  This epoch took: 0:03:17\n",
      "\n",
      "  roc_auc score:  0.96001296995477\n",
      "  F1 score: 0.9632829373650107\n",
      "\n",
      "Epoch 6 / 10\n",
      "Training...\n",
      "  Accuracy: 0.9987019730010385\n",
      "  Training loss: 0.019687023454830282\n",
      "\n",
      "Validation...\n",
      "  Accuracy: 0.9614485981308412\n",
      "  Validation loss: 0.022172813451735773\n",
      "  This epoch took: 0:03:17\n",
      "\n",
      "  roc_auc score:  0.9618622876582087\n",
      "  F1 score: 0.9640914036996735\n",
      "\n",
      "Epoch 7 / 10\n",
      "Training...\n",
      "  Accuracy: 0.9980529595015576\n",
      "  Training loss: 0.019721307251157543\n",
      "\n",
      "Validation...\n",
      "  Accuracy: 0.9579439252336449\n",
      "  Validation loss: 0.022354588991849222\n",
      "  This epoch took: 0:03:17\n",
      "\n",
      "  roc_auc score:  0.9578531427409471\n",
      "  F1 score: 0.9610389610389609\n",
      "\n",
      "Epoch 8 / 10\n",
      "Training...\n",
      "  Accuracy: 0.9983125649013499\n",
      "  Training loss: 0.019701189890519357\n",
      "\n",
      "Validation...\n",
      "  Accuracy: 0.9591121495327103\n",
      "  Validation loss: 0.022315482809164813\n",
      "  This epoch took: 0:03:17\n",
      "\n",
      "  roc_auc score:  0.9589330563478586\n",
      "  F1 score: 0.9621621621621621\n",
      "\n",
      "Epoch 9 / 10\n",
      "Training...\n",
      "  Accuracy: 0.9983125649013499\n",
      "  Training loss: 0.019703309340857022\n",
      "\n",
      "Validation...\n",
      "  Accuracy: 0.9579439252336449\n",
      "  Validation loss: 0.022361176245123425\n",
      "  This epoch took: 0:03:17\n",
      "\n",
      "  roc_auc score:  0.9574684406926836\n",
      "  F1 score: 0.9612068965517242\n",
      "\n",
      "Epoch 10 / 10\n",
      "Training...\n",
      "  Accuracy: 0.9983125649013499\n",
      "  Training loss: 0.019704056569101406\n",
      "\n",
      "Validation...\n",
      "  Accuracy: 0.9614485981308412\n",
      "  Validation loss: 0.022188497759471428\n",
      "  This epoch took: 0:03:17\n",
      "\n",
      "  roc_auc score:  0.9607081815134179\n",
      "  F1 score: 0.9645542427497314\n",
      "===\n",
      "Summary\n",
      "Total time 0:32:48 (h:mm:ss)\n",
      "best acc: 0.9614485981308412\n"
     ]
    }
   ],
   "source": [
    "import random\n",
    "import numpy as np\n",
    "\n",
    "seed_val = 42\n",
    "\n",
    "random.seed(seed_val)\n",
    "torch.manual_seed(seed_val)\n",
    "torch.cuda.manual_seed_all(seed_val)\n",
    "\n",
    "training_stats = []\n",
    "total_t0 = time.time()\n",
    "best_accuracy = 0\n",
    "for epoch_i in range(0, epochs):\n",
    "    #Training\n",
    "    print(\"\")\n",
    "    print('Epoch {:} / {:}'.format(epoch_i + 1, epochs))\n",
    "    print('Training...')\n",
    "\n",
    "    t0 = time.time()\n",
    "    total_train_loss = 0\n",
    "    total_train_accuracy = 0\n",
    "    model5.train()\n",
    "    for step, batch in enumerate(train_dataloader):\n",
    "\n",
    "        input_ids = batch[0].to(device)\n",
    "        input_mask = batch[1].to(device)\n",
    "        labels = batch[2].to(device)\n",
    "\n",
    "        model5.zero_grad()        \n",
    "        out = model5(input_ids = input_ids, attention_mask = input_mask, token_type_ids = None)\n",
    "        loss = criterion(out, labels)\n",
    "        total_train_loss += loss.item()\n",
    "\n",
    "        loss.backward()\n",
    "        torch.nn.utils.clip_grad_norm_(model5.parameters(), 1.0)\n",
    "        optimizer.step()\n",
    "\n",
    "        pred = torch.argmax(out, dim = 1)\n",
    "        total_train_accuracy +=  torch.sum(pred == labels).item()\n",
    "        \n",
    "    avg_train_accuracy = total_train_accuracy / len(train_dataloader.dataset)\n",
    "    avg_train_loss = total_train_loss / len(train_dataloader.dataset)            \n",
    "    print(\"  Accuracy: {}\".format(avg_train_accuracy))\n",
    "    print(\"  Training loss: {}\".format(avg_train_loss))\n",
    "        \n",
    "    # Validation\n",
    "    print(\"\")\n",
    "    print(\"Validation...\")\n",
    "    model5.eval()\n",
    "    total_eval_accuracy = 0\n",
    "    total_eval_loss = 0\n",
    "    y_true = []\n",
    "    y_pred = []\n",
    "\n",
    "    for batch in validation_dataloader:\n",
    "        input_ids = batch[0].to(device)\n",
    "        input_mask = batch[1].to(device)\n",
    "        labels = batch[2].to(device)\n",
    "        \n",
    "        with torch.no_grad():        \n",
    "            out = model5(input_ids = input_ids, attention_mask = input_mask, token_type_ids = None)\n",
    "        loss = criterion(out, labels)\n",
    "        total_eval_loss += loss.item()\n",
    "        pred = torch.argmax(out, dim = 1)\n",
    "        total_eval_accuracy += torch.sum(pred == labels).item()\n",
    "        y_true.append(labels.flatten())\n",
    "        y_pred.append(pred.flatten())\n",
    "        \n",
    "    avg_val_accuracy = total_eval_accuracy / len(validation_dataloader.dataset)\n",
    "    print(\"  Accuracy: {}\".format(avg_val_accuracy))\n",
    "    avg_val_loss = total_eval_loss / len(validation_dataloader.dataset)\n",
    "    print(\"  Validation loss: {}\".format(avg_val_loss))\n",
    "    training_time = format_time(time.time() - t0)\n",
    "    print(\"  This epoch took: {:}\".format(training_time))\n",
    "    print()\n",
    "    y_true = torch.cat(y_true).tolist()\n",
    "    y_pred = torch.cat(y_pred).tolist()\n",
    "    print('  roc_auc score: ', roc_auc_score(y_true,y_pred))\n",
    "    print('  F1 score:',f1_score(y_true, y_pred))\n",
    "\n",
    "\n",
    "    training_stats.append(\n",
    "        {\n",
    "            'epoch': epoch_i + 1,\n",
    "            'Train Accur.': avg_train_accuracy,\n",
    "            'Training Loss': avg_train_loss,\n",
    "            'Valid. Loss': avg_val_loss,\n",
    "            'Valid. Accur.': avg_val_accuracy,\n",
    "            'Training Time': training_time,\n",
    "        }\n",
    "    )\n",
    "\n",
    "    if avg_val_accuracy > best_accuracy:\n",
    "        best_accuracy = avg_val_accuracy\n",
    "        best_model = model5\n",
    "\n",
    "print(\"===\")\n",
    "print(\"Summary\")\n",
    "print(\"Total time {:} (h:mm:ss)\".format(format_time(time.time()-total_t0)))\n",
    "print('best acc:',best_accuracy)"
   ]
  },
  {
   "cell_type": "code",
   "execution_count": null,
   "metadata": {
    "id": "M2c13LGSJq-E"
   },
   "outputs": [],
   "source": [
    "PATH5 = \"/content/drive/MyDrive/Colab Notebooks/'lstm2.pt'\"\n",
    "torch.save(model5, PATH5)"
   ]
  },
  {
   "cell_type": "markdown",
   "metadata": {
    "id": "gnMc4cCPFsc6"
   },
   "source": [
    "# 4. Top frequent words in fake news (test dataset)"
   ]
  },
  {
   "cell_type": "code",
   "execution_count": null,
   "metadata": {
    "id": "mpS_RH3Mm3Mj"
   },
   "outputs": [],
   "source": [
    "PATH1 = \"/content/drive/Shareddrives/CS682 Project/'lstm2.pt'\"\n",
    "best_model = torch.load(PATH1,map_location='cpu')"
   ]
  },
  {
   "cell_type": "code",
   "execution_count": null,
   "metadata": {
    "id": "C9of3ukEoVeV"
   },
   "outputs": [],
   "source": [
    "model = best_model\n",
    "#model.to(device)\n",
    "model.eval()\n",
    "word_dict = {}\n",
    "for batch_index, batch in enumerate(val_dataloader):\n",
    "        input_ids = batch[0]\n",
    "        attention_mask = batch[1]\n",
    "        token_type_ids = batch[2]\n",
    "        labels = batch[3]\n",
    "        # forward\n",
    "        with torch.no_grad():\n",
    "            res = model(input_ids = input_ids, attention_mask = attention_mask, token_type_ids = token_type_ids)\n",
    "        # prediction\n",
    "        output = res[0]\n",
    "        pred = torch.argmax(output, dim = 1)\n",
    "        for i in pred:\n",
    "          if i ==1:\n",
    "            for j in range(input_ids.size(0)):\n",
    "              for idx in range(512):\n",
    "                if input_ids[j,idx].item()!=0:\n",
    "                  if input_ids[j,idx].item() not in word_dict:\n",
    "                      word_dict[input_ids[j,idx].item()] = 1\n",
    "                  else:\n",
    "                      word_dict[input_ids[j,idx].item()] += 1"
   ]
  },
  {
   "cell_type": "code",
   "execution_count": null,
   "metadata": {
    "id": "zLaf4v9QFmYI"
   },
   "outputs": [],
   "source": [
    "dict2 = sorted(word_dict.items(), key=lambda x:x[1], reverse=True)"
   ]
  },
  {
   "cell_type": "code",
   "execution_count": null,
   "metadata": {
    "colab": {
     "base_uri": "https://localhost:8080/"
    },
    "id": "4Y4lqnoQMOcU",
    "outputId": "c47976b4-abf2-4ea2-b19d-d9621fbe4835"
   },
   "outputs": [
    {
     "data": {
      "text/plain": [
       "[(1996, 8249),\n",
       " (101, 7440),\n",
       " (102, 7440),\n",
       " (1997, 5349),\n",
       " (1999, 4686),\n",
       " (2000, 4605),\n",
       " (1037, 3765),\n",
       " (1998, 3358),\n",
       " (2522, 2539),\n",
       " (17258, 2406),\n",
       " (2003, 2378),\n",
       " (2005, 2195),\n",
       " (16147, 2080),\n",
       " (3572, 2016),\n",
       " (2024, 1975),\n",
       " (2008, 1649),\n",
       " (21887, 1480),\n",
       " (2013, 1431),\n",
       " (2057, 1407),\n",
       " (2015, 1348),\n",
       " (2006, 1338),\n",
       " (2047, 1275),\n",
       " (23350, 1271),\n",
       " (2007, 1205),\n",
       " (2031, 1204),\n",
       " (2004, 1117),\n",
       " (2023, 1101),\n",
       " (1521, 941),\n",
       " (2012, 924),\n",
       " (2038, 923),\n",
       " (2011, 919),\n",
       " (6677, 883),\n",
       " (2009, 868),\n",
       " (5852, 832),\n",
       " (100, 813),\n",
       " (2256, 806),\n",
       " (2045, 805),\n",
       " (2111, 794),\n",
       " (2025, 769),\n",
       " (2022, 727),\n",
       " (2062, 724),\n",
       " (2651, 706),\n",
       " (2193, 677),\n",
       " (4484, 664),\n",
       " (2163, 648),\n",
       " (2064, 640),\n",
       " (2042, 639),\n",
       " (2988, 630),\n",
       " (2102, 609),\n",
       " (2561, 581),\n",
       " (2019, 580),\n",
       " (2030, 576),\n",
       " (2001, 574),\n",
       " (2085, 553),\n",
       " (2035, 539),\n",
       " (1055, 534),\n",
       " (2040, 515),\n",
       " (2902, 507),\n",
       " (2740, 498),\n",
       " (2110, 493),\n",
       " (23713, 493),\n",
       " (1016, 485),\n",
       " (2017, 485),\n",
       " (2065, 484),\n",
       " (5604, 478),\n",
       " (2039, 476),\n",
       " (2020, 471),\n",
       " (1015, 462),\n",
       " (2097, 456),\n",
       " (2084, 454),\n",
       " (2634, 447),\n",
       " (2053, 430),\n",
       " (2021, 409),\n",
       " (2058, 400),\n",
       " (5022, 400),\n",
       " (2487, 387),\n",
       " (2027, 373),\n",
       " (2692, 372),\n",
       " (2115, 372),\n",
       " (2037, 371),\n",
       " (2951, 370),\n",
       " (2029, 362),\n",
       " (2575, 362),\n",
       " (3207, 361),\n",
       " (2055, 355),\n",
       " (2080, 354),\n",
       " (3189, 354),\n",
       " (6090, 353),\n",
       " (3231, 352),\n",
       " (4609, 347),\n",
       " (2683, 346),\n",
       " (7712, 340),\n",
       " (2420, 339),\n",
       " (1017, 334),\n",
       " (2553, 333),\n",
       " (2154, 332),\n",
       " (2549, 321),\n",
       " (17404, 321),\n",
       " (2050, 318),\n",
       " (2069, 318)]"
      ]
     },
     "execution_count": 111,
     "metadata": {
      "tags": []
     },
     "output_type": "execute_result"
    }
   ],
   "source": [
    "dict2[:100]"
   ]
  },
  {
   "cell_type": "code",
   "execution_count": null,
   "metadata": {
    "id": "O1wKqeUX1iW9"
   },
   "outputs": [],
   "source": [
    "word_list = []\n",
    "for i in range(100):\n",
    "  word_list.append(dict2[i][0])"
   ]
  },
  {
   "cell_type": "code",
   "execution_count": null,
   "metadata": {
    "colab": {
     "base_uri": "https://localhost:8080/"
    },
    "id": "lYfi2kY-G88s",
    "outputId": "45149185-7584-4e7c-ea4d-1ece0f8b6d28"
   },
   "outputs": [
    {
     "name": "stdout",
     "output_type": "stream",
     "text": [
      "['the', '[CLS]', '[SEP]', 'of', 'in', 'to', 'a', 'and', 'co', '##vid', 'is', 'for', '##19', 'cases', 'are', 'that', 'corona', 'from', 'we', '##s', 'on', 'new', '##virus', 'with', 'have', 'as', 'this', '’', 'at', 'has', 'by', 'deaths', 'it', 'tests', '[UNK]', 'our', 'there', 'people', 'not', 'be', 'more', 'today', 'number', 'confirmed', 'states', 'can', 'been', 'reported', '##t', 'total', 'an', 'or', 'was', 'now', 'all', 's', 'who', 'hospital', 'health', 'state', 'amp', '2', 'you', 'if', 'testing', 'up', 'were', '1', 'will', 'than', 'india', 'no', 'but', 'over', 'patients', '##1', 'they', '##0', 'your', 'their', 'data', 'which', '##6', '##de', 'about', '##o', 'report', 'pan', 'test', '##un', '##9', '##mic', 'days', '3', 'case', 'day', '##4', 'vaccine', '##a', 'only']\n"
     ]
    }
   ],
   "source": [
    "tokens = tokenizer.convert_ids_to_tokens(word_list)\n",
    "print(tokens)"
   ]
  },
  {
   "cell_type": "code",
   "execution_count": null,
   "metadata": {
    "id": "IpdNXY1Z6iCh"
   },
   "outputs": [],
   "source": [
    "#drow word cloud\n",
    "from wordcloud import WordCloud, STOPWORDS\n",
    "stopwords = set(STOPWORDS) \n",
    "all_text = \"\"\n",
    "for i in range(14,len(dic2)):\n",
    "    for j in range(dic2[i][1]):\n",
    "      words = tokenizer.convert_ids_to_tokens(dic2[i][0])\n",
    "      all_text += \" \" + words"
   ]
  },
  {
   "cell_type": "code",
   "execution_count": null,
   "metadata": {
    "colab": {
     "base_uri": "https://localhost:8080/"
    },
    "id": "wKzkut4K7rkZ",
    "outputId": "8f7d06e1-1a7f-43f1-dae8-62f97c567cc9"
   },
   "outputs": [
    {
     "data": {
      "text/plain": [
       "<wordcloud.wordcloud.WordCloud at 0x7fe621ff5a90>"
      ]
     },
     "execution_count": 32,
     "metadata": {
      "tags": []
     },
     "output_type": "execute_result"
    }
   ],
   "source": [
    "wordcloud = WordCloud(collocations=False, width = 800, height = 300, stopwords = stopwords,background_color ='white',  min_font_size = 10)\n",
    "wordcloud.generate(all_text)"
   ]
  },
  {
   "cell_type": "code",
   "execution_count": null,
   "metadata": {
    "colab": {
     "base_uri": "https://localhost:8080/",
     "height": 247
    },
    "id": "YlUjdO4u7wLJ",
    "outputId": "18ca92f1-b967-4f23-dd3a-c2ff47d06fa7"
   },
   "outputs": [
    {
     "data": {
      "image/png": "[encoded data removed]",
      "text/plain": [
       "<Figure size 576x216 with 1 Axes>"
      ]
     },
     "metadata": {
      "needs_background": "light",
      "tags": []
     },
     "output_type": "display_data"
    }
   ],
   "source": [
    "import matplotlib.pyplot as plt\n",
    "plt.figure(figsize = (8, 3), facecolor = None) \n",
    "plt.imshow(wordcloud) \n",
    "plt.axis(\"off\") \n",
    "plt.tight_layout(pad = 0) \n",
    "plt.show()"
   ]
  },
  {
   "cell_type": "markdown",
   "metadata": {
    "id": "P3WG3IstB2Zp"
   },
   "source": [
    "# 5 Words that carry significant weights in the model\n",
    "(DID NOT included in the report. Just experiment)"
   ]
  },
  {
   "cell_type": "code",
   "execution_count": null,
   "metadata": {
    "id": "nD2pLms2FuvO"
   },
   "outputs": [],
   "source": [
    "PATH1 = \"/content/drive/Shareddrives/CS682 Project/'lstm2.pt'\"\n",
    "the_final_model = torch.load(PATH1,map_location='cpu')"
   ]
  },
  {
   "cell_type": "code",
   "execution_count": null,
   "metadata": {
    "colab": {
     "base_uri": "https://localhost:8080/"
    },
    "id": "YQzn4Ee1rr10",
    "outputId": "beee807e-4b87-4e99-8ad6-54ef3febf084"
   },
   "outputs": [
    {
     "data": {
      "text/plain": [
       "tensor([-0.0220, -0.0221, -0.0222,  ..., -0.0162, -0.0176, -0.0316])"
      ]
     },
     "execution_count": 8,
     "metadata": {
      "tags": []
     },
     "output_type": "execute_result"
    }
   ],
   "source": [
    "weights = torch.mean(the_final_model.bert.embeddings.word_embeddings.weight,axis = 1)\n",
    "weights"
   ]
  },
  {
   "cell_type": "code",
   "execution_count": null,
   "metadata": {
    "id": "zA_04TVxCdRu"
   },
   "outputs": [],
   "source": [
    "sorted, indices = torch.sort(weights,descending = True)\n",
    "target_list = indices[0:200].tolist()"
   ]
  },
  {
   "cell_type": "code",
   "execution_count": null,
   "metadata": {
    "colab": {
     "base_uri": "https://localhost:8080/"
    },
    "id": "ovDsQgSh72yu",
    "outputId": "8459843e-2314-4030-aeda-11cb55423fd3"
   },
   "outputs": [
    {
     "name": "stdout",
     "output_type": "stream",
     "text": [
      "['[CLS]', '[MASK]', '[SEP]', \"'\", '\"', '(', '.', 'to', ';', 'by', 'of', '?', 'during', 'in', 'from', 'for', ')', 'on', 'after', 'and', 'at', 'or', 'through', ':', 'when', 'under', 'but', 'as', ',', 'between', 'toward', 'while', 'if', 'that', 'until', 'could', 'what', 'into', 'with', 'are', 'over', 'were', '-', '!', 'about', 'lumpur', 'against', 'within', 'although', 'might', 'my', 'around', 'since', 'would', '...', 'his', 'because', '/', 'which', 'a', 'her', '&', 'upon', 'will', 'is', 'off', 'where', '##elial', 'like', 'was', 'before', 'who', 'kylie', 'though', 'its', '*', 'each', 'than', 'should', 'out', 'down', 'how', 'this', 'along', 'across', 'onto', 'just', 'any', 'all', 'now', 'one', 'why', 'towards', 'up', 'both', 'the', 'must', 'you', 'even', 'every', 'near', 'season', 'following', 'became', 'their', 'can', '%', 'throughout', 'then', 'not', 'day', 'inside', 'only', 'so', 'an', 'your', 'never', 'more', 'another', 'nedra', 'time', 'beside', '##peration', 'including', 'me', 'behind', 'we', 'most', 'our', 'some', 'away', 'did', 'year', 'moment', 'once', 'without', 'been', 'album', 'there', 'too', '##rricular', 'located', 'had', 'here', 'want', 'much', 'it', 'way', 'among', 'yet', '=', '་', '$', 'league', 'first', 'part', 'whether', 'also', 'aback', 'back', '##urbed', 'two', 'years', 'school', 'seemed', 's', 'right', '[', 'ever', 'maybe', 'later', 'south', 'i', 'well', 'being', 'north', 'didn', 'despite', 'ethan', 'last', 'side', 'club', 'have', 'them', 'felt', 'best', 'still', 'next', 'home', 'yes', 'outside', 'has', 'week', 'house', 'him', 'again', 'doesn', 'together', 'approximately', 'less']\n"
     ]
    }
   ],
   "source": [
    "tokens = tokenizer.convert_ids_to_tokens(target_list)\n",
    "print(tokens)"
   ]
  },
  {
   "cell_type": "code",
   "execution_count": null,
   "metadata": {
    "id": "GahVWINY7wFl"
   },
   "outputs": [],
   "source": [
    "target_list = indices[0:200].tolist()"
   ]
  },
  {
   "cell_type": "code",
   "execution_count": null,
   "metadata": {
    "colab": {
     "base_uri": "https://localhost:8080/"
    },
    "id": "HIW7h0MM75KO",
    "outputId": "3de2e0d5-db12-4bce-bbf6-5e7ca37db1be"
   },
   "outputs": [
    {
     "data": {
      "text/plain": [
       "['[CLS]',\n",
       " '[MASK]',\n",
       " '[SEP]',\n",
       " 'toward',\n",
       " 'lumpur',\n",
       " 'within',\n",
       " 'although',\n",
       " 'might',\n",
       " 'around',\n",
       " '...',\n",
       " 'upon',\n",
       " 'will',\n",
       " '##elial',\n",
       " 'kylie',\n",
       " 'though',\n",
       " 'along',\n",
       " 'across',\n",
       " 'onto',\n",
       " 'now',\n",
       " 'one',\n",
       " 'towards',\n",
       " 'must',\n",
       " 'even',\n",
       " 'every',\n",
       " 'near',\n",
       " 'season',\n",
       " 'following',\n",
       " 'became',\n",
       " 'throughout',\n",
       " 'day',\n",
       " 'inside',\n",
       " 'never',\n",
       " 'another',\n",
       " 'nedra',\n",
       " 'time',\n",
       " 'beside',\n",
       " '##peration',\n",
       " 'including',\n",
       " 'behind',\n",
       " 'away',\n",
       " 'year',\n",
       " 'moment',\n",
       " 'without',\n",
       " 'album',\n",
       " '##rricular',\n",
       " 'located',\n",
       " 'want',\n",
       " 'much',\n",
       " 'way',\n",
       " 'among',\n",
       " 'yet',\n",
       " '་',\n",
       " 'league',\n",
       " 'first',\n",
       " 'part',\n",
       " 'whether',\n",
       " 'aback',\n",
       " 'back',\n",
       " '##urbed',\n",
       " 'two',\n",
       " 'years',\n",
       " 'school',\n",
       " 'seemed',\n",
       " 's',\n",
       " 'right',\n",
       " 'maybe',\n",
       " 'later',\n",
       " 'south',\n",
       " 'well',\n",
       " 'north',\n",
       " 'didn',\n",
       " 'despite',\n",
       " 'ethan',\n",
       " 'last',\n",
       " 'side',\n",
       " 'club',\n",
       " 'felt',\n",
       " 'best',\n",
       " 'still',\n",
       " 'next',\n",
       " 'home',\n",
       " 'yes',\n",
       " 'outside',\n",
       " 'week',\n",
       " 'house',\n",
       " 'doesn',\n",
       " 'together',\n",
       " 'approximately',\n",
       " 'less']"
      ]
     },
     "execution_count": 37,
     "metadata": {
      "tags": []
     },
     "output_type": "execute_result"
    }
   ],
   "source": [
    "from wordcloud import WordCloud, STOPWORDS\n",
    "L = []\n",
    "stopwords = set(STOPWORDS) \n",
    "string = set(string.punctuation)\n",
    "u = stopwords.union(string)\n",
    "for i in tokens:\n",
    "  if i not in u:\n",
    "    L.append(i)\n",
    "L"
   ]
  },
  {
   "cell_type": "markdown",
   "metadata": {
    "id": "01LHDnvsrySt"
   },
   "source": [
    "# 6. Top frequent words and model performance"
   ]
  },
  {
   "cell_type": "code",
   "execution_count": null,
   "metadata": {
    "id": "S-YduW70b_i2"
   },
   "outputs": [],
   "source": [
    "class BertLstmClassifier(nn.Module):\n",
    "    def __init__(self, model_tune):\n",
    "        super().__init__()\n",
    "        self.bert = model_tune.bert\n",
    "        self.lstm = nn.LSTM(input_size = 768, \n",
    "                            hidden_size = 768, \n",
    "                            num_layers = 2, \n",
    "                            batch_first = True, \n",
    "                            bidirectional = True)\n",
    "        self.classifier = nn.Linear(768 * 2, 2)\n",
    "        self.softmax = nn.Softmax(dim = 1)\n",
    "\n",
    "    def forward(self, input_ids, attention_mask, token_type_ids):\n",
    "        bert_output = self.bert(input_ids = input_ids, attention_mask = attention_mask, token_type_ids = token_type_ids)\n",
    "        out, _ = self.lstm(bert_output[0])\n",
    "        logits = self.classifier(out[:, 1, :])\n",
    "        return self.softmax(logits)"
   ]
  },
  {
   "cell_type": "code",
   "execution_count": null,
   "metadata": {
    "id": "I0XYzA98eFFt"
   },
   "outputs": [],
   "source": [
    "PATH1 = \"/content/drive/Shareddrives/CS682 Project/'lstm2.pt'\"\n",
    "the_final_model = torch.load(PATH1,map_location='cpu')"
   ]
  },
  {
   "cell_type": "code",
   "execution_count": null,
   "metadata": {
    "id": "sYkBJNVrI3MT"
   },
   "outputs": [],
   "source": [
    "dic = [(1996, 8249),\n",
    " (101, 7440),\n",
    " (102, 7440),\n",
    " (1997, 5349),\n",
    " (1999, 4686),\n",
    " (2000, 4605),\n",
    " (1037, 3765),\n",
    " (1998, 3358),\n",
    " (2522, 2539),\n",
    " (17258, 2406),\n",
    " (2003, 2378),\n",
    " (2005, 2195),\n",
    " (16147, 2080),\n",
    " (3572, 2016),\n",
    " (2024, 1975),\n",
    " (2008, 1649),\n",
    " (21887, 1480),\n",
    " (2013, 1431),\n",
    " (2057, 1407),\n",
    " (2015, 1348),\n",
    " (2006, 1338),\n",
    " (2047, 1275),\n",
    " (23350, 1271),\n",
    " (2007, 1205),\n",
    " (2031, 1204),\n",
    " (2004, 1117),\n",
    " (2023, 1101),\n",
    " (1521, 941),\n",
    " (2012, 924),\n",
    " (2038, 923),\n",
    " (2011, 919),\n",
    " (6677, 883),\n",
    " (2009, 868),\n",
    " (5852, 832),\n",
    " (100, 813),\n",
    " (2256, 806),\n",
    " (2045, 805),\n",
    " (2111, 794),\n",
    " (2025, 769),\n",
    " (2022, 727),\n",
    " (2062, 724),\n",
    " (2651, 706),\n",
    " (2193, 677),\n",
    " (4484, 664),\n",
    " (2163, 648),\n",
    " (2064, 640),\n",
    " (2042, 639),\n",
    " (2988, 630),\n",
    " (2102, 609),\n",
    " (2561, 581),\n",
    " (2019, 580),\n",
    " (2030, 576),\n",
    " (2001, 574),\n",
    " (2085, 553),\n",
    " (2035, 539),\n",
    " (1055, 534),\n",
    " (2040, 515),\n",
    " (2902, 507),\n",
    " (2740, 498),\n",
    " (2110, 493),\n",
    " (23713, 493),\n",
    " (1016, 485),\n",
    " (2017, 485),\n",
    " (2065, 484),\n",
    " (5604, 478),\n",
    " (2039, 476),\n",
    " (2020, 471),\n",
    " (1015, 462),\n",
    " (2097, 456),\n",
    " (2084, 454),\n",
    " (2634, 447),\n",
    " (2053, 430),\n",
    " (2021, 409),\n",
    " (2058, 400),\n",
    " (5022, 400),\n",
    " (2487, 387),\n",
    " (2027, 373),\n",
    " (2692, 372),\n",
    " (2115, 372),\n",
    " (2037, 371),\n",
    " (2951, 370),\n",
    " (2029, 362),\n",
    " (2575, 362),\n",
    " (3207, 361),\n",
    " (2055, 355),\n",
    " (2080, 354),\n",
    " (3189, 354),\n",
    " (6090, 353),\n",
    " (3231, 352),\n",
    " (4609, 347),\n",
    " (2683, 346),\n",
    " (7712, 340),\n",
    " (2420, 339),\n",
    " (1017, 334),\n",
    " (2553, 333),\n",
    " (2154, 332),\n",
    " (2549, 321),\n",
    " (17404, 321),\n",
    " (2050, 318),\n",
    " (2069, 318)]"
   ]
  },
  {
   "cell_type": "code",
   "execution_count": null,
   "metadata": {
    "id": "SoPHiEE5q6A6"
   },
   "outputs": [],
   "source": [
    "word_list =['cases', 'corona', 'news', 'deaths', 'tests','today','confirmed','reported','states','total']"
   ]
  },
  {
   "cell_type": "code",
   "execution_count": null,
   "metadata": {
    "colab": {
     "base_uri": "https://localhost:8080/"
    },
    "id": "RYC2rB1ut2S5",
    "outputId": "87c4aec8-bdc1-4729-b6ba-07c80988897b"
   },
   "outputs": [
    {
     "name": "stdout",
     "output_type": "stream",
     "text": [
      "[3572, 21887, 2739, 6677, 5852, 2651, 4484, 2988, 2163, 2561]\n"
     ]
    }
   ],
   "source": [
    "ids_list = tokenizer.convert_tokens_to_ids(word_list)\n",
    "print(ids_list)"
   ]
  },
  {
   "cell_type": "code",
   "execution_count": null,
   "metadata": {
    "id": "WGhWqSfUI9J9"
   },
   "outputs": [],
   "source": [
    "ids_list = []\n",
    "for i in range(len(dic)):\n",
    "  ids_list.append(dic[i][0])"
   ]
  },
  {
   "cell_type": "code",
   "execution_count": null,
   "metadata": {
    "colab": {
     "base_uri": "https://localhost:8080/"
    },
    "id": "ZuBKTZumeP-z",
    "outputId": "997f2a97-609a-41c1-d3a4-21c85bdea94f"
   },
   "outputs": [
    {
     "name": "stdout",
     "output_type": "stream",
     "text": [
      "Validation...\n",
      "  Accuracy: 0.967391304347826\n",
      "  Removing Accuracy: 0.967391304347826\n"
     ]
    }
   ],
   "source": [
    "model = the_final_model.cuda()\n",
    "print(\"Validation...\")\n",
    "model.eval()\n",
    "total_eval_accuracy = 0\n",
    "total_eval_accuracy1 = 0\n",
    "total_num = 0\n",
    "tag = False\n",
    "for batch in validation_dataloader:\n",
    "    input_ids = batch[0].to(device)\n",
    "    input_mask = batch[1].to(device)\n",
    "    labels = batch[2].to(device)\n",
    "    input_list = []\n",
    "    label_list = []\n",
    "    mask_list = []\n",
    "\n",
    "    input_list_r = []\n",
    "\n",
    "    for i in range(input_ids.size(0)):\n",
    "      for ids in ids_list:\n",
    "        if ids in input_ids[i]:\n",
    "          tag = True\n",
    "      if tag == True:\n",
    "        input_list.append(input_ids[i])\n",
    "        label_list.append(labels[i])\n",
    "        mask_list.append(input_mask[i])\n",
    "        for ids in ids_list:\n",
    "          for j in range(len(input_ids[i])):\n",
    "            if input_ids[i][j] == ids:\n",
    "              input_ids[i][j] = 0\n",
    "        input_list_r.append(input_ids[i])\n",
    "      tag = False\n",
    "    \n",
    "    if len(input_list)==0:\n",
    "      continue\n",
    "\n",
    "    input_list = torch.stack((input_list)).to(device)\n",
    "    label_list = torch.stack((label_list)).to(device)\n",
    "    mask_list = torch.stack((mask_list)).to(device)\n",
    "    input_list_r = torch.stack((input_list_r)).to(device)\n",
    "\n",
    "    with torch.no_grad():        \n",
    "      out = model(input_ids = input_list, attention_mask = mask_list, token_type_ids = None)\n",
    "    pred = torch.argmax(out, dim = 1)\n",
    "    total_eval_accuracy += torch.sum(pred == label_list).item()\n",
    "\n",
    "    with torch.no_grad():        \n",
    "      out1 = model(input_ids = input_list_r, attention_mask = mask_list, token_type_ids = None)\n",
    "    pred1 = torch.argmax(out1, dim = 1)\n",
    "    total_eval_accuracy1 += torch.sum(pred1 == label_list).item()\n",
    "\n",
    "    total_num += len(input_list)\n",
    "        \n",
    "avg_val_accuracy = total_eval_accuracy / total_num\n",
    "avg_val_accuracy1 = total_eval_accuracy1 / total_num\n",
    "print(\"  Accuracy: {}\".format(avg_val_accuracy))\n",
    "print(\"  Removing Accuracy: {}\".format(avg_val_accuracy1))"
   ]
  }
 ],
 "metadata": {
  "accelerator": "GPU",
  "colab": {
   "collapsed_sections": [
    "PlNV4QdBJ8zn",
    "m4Ile6DJW53u",
    "Ul0PkiRlXB33",
    "7z-XFaJeHAkO",
    "E8EEOXKpEL8I",
    "SYYJYMUt5sCE",
    "bg68AMvDA1mi",
    "6T_bhYg8zKmP",
    "AaWUyMnNzQOI",
    "gnMc4cCPFsc6",
    "P3WG3IstB2Zp"
   ],
   "name": "**Final Submission**",
   "provenance": [],
   "toc_visible": true
  },
  "kernelspec": {
   "display_name": "Python 3",
   "language": "python",
   "name": "python3"
  },
  "language_info": {
   "codemirror_mode": {
    "name": "ipython",
    "version": 3
   },
   "file_extension": ".py",
   "mimetype": "text/x-python",
   "name": "python",
   "nbconvert_exporter": "python",
   "pygments_lexer": "ipython3",
   "version": "3.7.6"
  },
  "widgets": {
   "application/vnd.jupyter.widget-state+json": {
    "00ca1d6fa93e472d836354c91d962442": {
     "model_module": "@jupyter-widgets/controls",
     "model_name": "FloatProgressModel",
     "state": {
      "_dom_classes": [],
      "_model_module": "@jupyter-widgets/controls",
      "_model_module_version": "1.5.0",
      "_model_name": "FloatProgressModel",
      "_view_count": null,
      "_view_module": "@jupyter-widgets/controls",
      "_view_module_version": "1.5.0",
      "_view_name": "ProgressView",
      "bar_style": "success",
      "description": "Downloading: 100%",
      "description_tooltip": null,
      "layout": "IPY_MODEL_133bf8f03f054b9cb77fc845d731250b",
      "max": 570,
      "min": 0,
      "orientation": "horizontal",
      "style": "IPY_MODEL_32ebf0bef3d349a2a32c85169b228278",
      "value": 570
     }
    },
    "020732fd790c43c4925f0e63635564d6": {
     "model_module": "@jupyter-widgets/controls",
     "model_name": "HTMLModel",
     "state": {
      "_dom_classes": [],
      "_model_module": "@jupyter-widgets/controls",
      "_model_module_version": "1.5.0",
      "_model_name": "HTMLModel",
      "_view_count": null,
      "_view_module": "@jupyter-widgets/controls",
      "_view_module_version": "1.5.0",
      "_view_name": "HTMLView",
      "description": "",
      "description_tooltip": null,
      "layout": "IPY_MODEL_5ce1cbbd966a40aea625bf01b687513d",
      "placeholder": "​",
      "style": "IPY_MODEL_0fb14f0864634ba6bc0173d0201014ad",
      "value": " 440M/440M [00:13&lt;00:00, 32.3MB/s]"
     }
    },
    "0423c6395eaa4d6aa9a4cc6328b4e571": {
     "model_module": "@jupyter-widgets/controls",
     "model_name": "DescriptionStyleModel",
     "state": {
      "_model_module": "@jupyter-widgets/controls",
      "_model_module_version": "1.5.0",
      "_model_name": "DescriptionStyleModel",
      "_view_count": null,
      "_view_module": "@jupyter-widgets/base",
      "_view_module_version": "1.2.0",
      "_view_name": "StyleView",
      "description_width": ""
     }
    },
    "05967b9481594b93901efdb0ff5ad809": {
     "model_module": "@jupyter-widgets/base",
     "model_name": "LayoutModel",
     "state": {
      "_model_module": "@jupyter-widgets/base",
      "_model_module_version": "1.2.0",
      "_model_name": "LayoutModel",
      "_view_count": null,
      "_view_module": "@jupyter-widgets/base",
      "_view_module_version": "1.2.0",
      "_view_name": "LayoutView",
      "align_content": null,
      "align_items": null,
      "align_self": null,
      "border": null,
      "bottom": null,
      "display": null,
      "flex": null,
      "flex_flow": null,
      "grid_area": null,
      "grid_auto_columns": null,
      "grid_auto_flow": null,
      "grid_auto_rows": null,
      "grid_column": null,
      "grid_gap": null,
      "grid_row": null,
      "grid_template_areas": null,
      "grid_template_columns": null,
      "grid_template_rows": null,
      "height": null,
      "justify_content": null,
      "justify_items": null,
      "left": null,
      "margin": null,
      "max_height": null,
      "max_width": null,
      "min_height": null,
      "min_width": null,
      "object_fit": null,
      "object_position": null,
      "order": null,
      "overflow": null,
      "overflow_x": null,
      "overflow_y": null,
      "padding": null,
      "right": null,
      "top": null,
      "visibility": null,
      "width": null
     }
    },
    "064f00e64d334c1b845425f3cac6fc52": {
     "model_module": "@jupyter-widgets/controls",
     "model_name": "FloatProgressModel",
     "state": {
      "_dom_classes": [],
      "_model_module": "@jupyter-widgets/controls",
      "_model_module_version": "1.5.0",
      "_model_name": "FloatProgressModel",
      "_view_count": null,
      "_view_module": "@jupyter-widgets/controls",
      "_view_module_version": "1.5.0",
      "_view_name": "ProgressView",
      "bar_style": "success",
      "description": "Downloading: 100%",
      "description_tooltip": null,
      "layout": "IPY_MODEL_7c4ac4eb30fb41388a234ddbf9a9a160",
      "max": 466062,
      "min": 0,
      "orientation": "horizontal",
      "style": "IPY_MODEL_600ce8dc01f7467f9f7843c3a23a6d5d",
      "value": 466062
     }
    },
    "079cf310324e4c3aa6df3d26d50343c3": {
     "model_module": "@jupyter-widgets/base",
     "model_name": "LayoutModel",
     "state": {
      "_model_module": "@jupyter-widgets/base",
      "_model_module_version": "1.2.0",
      "_model_name": "LayoutModel",
      "_view_count": null,
      "_view_module": "@jupyter-widgets/base",
      "_view_module_version": "1.2.0",
      "_view_name": "LayoutView",
      "align_content": null,
      "align_items": null,
      "align_self": null,
      "border": null,
      "bottom": null,
      "display": null,
      "flex": null,
      "flex_flow": null,
      "grid_area": null,
      "grid_auto_columns": null,
      "grid_auto_flow": null,
      "grid_auto_rows": null,
      "grid_column": null,
      "grid_gap": null,
      "grid_row": null,
      "grid_template_areas": null,
      "grid_template_columns": null,
      "grid_template_rows": null,
      "height": null,
      "justify_content": null,
      "justify_items": null,
      "left": null,
      "margin": null,
      "max_height": null,
      "max_width": null,
      "min_height": null,
      "min_width": null,
      "object_fit": null,
      "object_position": null,
      "order": null,
      "overflow": null,
      "overflow_x": null,
      "overflow_y": null,
      "padding": null,
      "right": null,
      "top": null,
      "visibility": null,
      "width": null
     }
    },
    "0daab2bffc9b42b38de836a13986231a": {
     "model_module": "@jupyter-widgets/controls",
     "model_name": "ProgressStyleModel",
     "state": {
      "_model_module": "@jupyter-widgets/controls",
      "_model_module_version": "1.5.0",
      "_model_name": "ProgressStyleModel",
      "_view_count": null,
      "_view_module": "@jupyter-widgets/base",
      "_view_module_version": "1.2.0",
      "_view_name": "StyleView",
      "bar_color": null,
      "description_width": "initial"
     }
    },
    "0fb14f0864634ba6bc0173d0201014ad": {
     "model_module": "@jupyter-widgets/controls",
     "model_name": "DescriptionStyleModel",
     "state": {
      "_model_module": "@jupyter-widgets/controls",
      "_model_module_version": "1.5.0",
      "_model_name": "DescriptionStyleModel",
      "_view_count": null,
      "_view_module": "@jupyter-widgets/base",
      "_view_module_version": "1.2.0",
      "_view_name": "StyleView",
      "description_width": ""
     }
    },
    "108b456a34b141a787dc0f705d380594": {
     "model_module": "@jupyter-widgets/controls",
     "model_name": "HTMLModel",
     "state": {
      "_dom_classes": [],
      "_model_module": "@jupyter-widgets/controls",
      "_model_module_version": "1.5.0",
      "_model_name": "HTMLModel",
      "_view_count": null,
      "_view_module": "@jupyter-widgets/controls",
      "_view_module_version": "1.5.0",
      "_view_name": "HTMLView",
      "description": "",
      "description_tooltip": null,
      "layout": "IPY_MODEL_ddba104147f947009106ad3158e4d459",
      "placeholder": "​",
      "style": "IPY_MODEL_d417b3c5e34b43e19f8316813324e620",
      "value": " 466k/466k [00:00&lt;00:00, 1.00MB/s]"
     }
    },
    "133bf8f03f054b9cb77fc845d731250b": {
     "model_module": "@jupyter-widgets/base",
     "model_name": "LayoutModel",
     "state": {
      "_model_module": "@jupyter-widgets/base",
      "_model_module_version": "1.2.0",
      "_model_name": "LayoutModel",
      "_view_count": null,
      "_view_module": "@jupyter-widgets/base",
      "_view_module_version": "1.2.0",
      "_view_name": "LayoutView",
      "align_content": null,
      "align_items": null,
      "align_self": null,
      "border": null,
      "bottom": null,
      "display": null,
      "flex": null,
      "flex_flow": null,
      "grid_area": null,
      "grid_auto_columns": null,
      "grid_auto_flow": null,
      "grid_auto_rows": null,
      "grid_column": null,
      "grid_gap": null,
      "grid_row": null,
      "grid_template_areas": null,
      "grid_template_columns": null,
      "grid_template_rows": null,
      "height": null,
      "justify_content": null,
      "justify_items": null,
      "left": null,
      "margin": null,
      "max_height": null,
      "max_width": null,
      "min_height": null,
      "min_width": null,
      "object_fit": null,
      "object_position": null,
      "order": null,
      "overflow": null,
      "overflow_x": null,
      "overflow_y": null,
      "padding": null,
      "right": null,
      "top": null,
      "visibility": null,
      "width": null
     }
    },
    "19cfc37cea5c4238822a64cd141371c0": {
     "model_module": "@jupyter-widgets/controls",
     "model_name": "HBoxModel",
     "state": {
      "_dom_classes": [],
      "_model_module": "@jupyter-widgets/controls",
      "_model_module_version": "1.5.0",
      "_model_name": "HBoxModel",
      "_view_count": null,
      "_view_module": "@jupyter-widgets/controls",
      "_view_module_version": "1.5.0",
      "_view_name": "HBoxView",
      "box_style": "",
      "children": [
       "IPY_MODEL_064f00e64d334c1b845425f3cac6fc52",
       "IPY_MODEL_108b456a34b141a787dc0f705d380594"
      ],
      "layout": "IPY_MODEL_28c4636aff0747a2a93230d87f3db14c"
     }
    },
    "28c4636aff0747a2a93230d87f3db14c": {
     "model_module": "@jupyter-widgets/base",
     "model_name": "LayoutModel",
     "state": {
      "_model_module": "@jupyter-widgets/base",
      "_model_module_version": "1.2.0",
      "_model_name": "LayoutModel",
      "_view_count": null,
      "_view_module": "@jupyter-widgets/base",
      "_view_module_version": "1.2.0",
      "_view_name": "LayoutView",
      "align_content": null,
      "align_items": null,
      "align_self": null,
      "border": null,
      "bottom": null,
      "display": null,
      "flex": null,
      "flex_flow": null,
      "grid_area": null,
      "grid_auto_columns": null,
      "grid_auto_flow": null,
      "grid_auto_rows": null,
      "grid_column": null,
      "grid_gap": null,
      "grid_row": null,
      "grid_template_areas": null,
      "grid_template_columns": null,
      "grid_template_rows": null,
      "height": null,
      "justify_content": null,
      "justify_items": null,
      "left": null,
      "margin": null,
      "max_height": null,
      "max_width": null,
      "min_height": null,
      "min_width": null,
      "object_fit": null,
      "object_position": null,
      "order": null,
      "overflow": null,
      "overflow_x": null,
      "overflow_y": null,
      "padding": null,
      "right": null,
      "top": null,
      "visibility": null,
      "width": null
     }
    },
    "2b371eb8229c4a6cbd1d5997e872a498": {
     "model_module": "@jupyter-widgets/controls",
     "model_name": "HBoxModel",
     "state": {
      "_dom_classes": [],
      "_model_module": "@jupyter-widgets/controls",
      "_model_module_version": "1.5.0",
      "_model_name": "HBoxModel",
      "_view_count": null,
      "_view_module": "@jupyter-widgets/controls",
      "_view_module_version": "1.5.0",
      "_view_name": "HBoxView",
      "box_style": "",
      "children": [
       "IPY_MODEL_626a6cac52b149d9888cae64ba29bff6",
       "IPY_MODEL_b1f109e85e624f1a89dd1c5626d36d20"
      ],
      "layout": "IPY_MODEL_7bfe1110aad24de996256edd240e2b2d"
     }
    },
    "32ebf0bef3d349a2a32c85169b228278": {
     "model_module": "@jupyter-widgets/controls",
     "model_name": "ProgressStyleModel",
     "state": {
      "_model_module": "@jupyter-widgets/controls",
      "_model_module_version": "1.5.0",
      "_model_name": "ProgressStyleModel",
      "_view_count": null,
      "_view_module": "@jupyter-widgets/base",
      "_view_module_version": "1.2.0",
      "_view_name": "StyleView",
      "bar_color": null,
      "description_width": "initial"
     }
    },
    "373688c770da4ec1ab63bc8f80733a7c": {
     "model_module": "@jupyter-widgets/controls",
     "model_name": "FloatProgressModel",
     "state": {
      "_dom_classes": [],
      "_model_module": "@jupyter-widgets/controls",
      "_model_module_version": "1.5.0",
      "_model_name": "FloatProgressModel",
      "_view_count": null,
      "_view_module": "@jupyter-widgets/controls",
      "_view_module_version": "1.5.0",
      "_view_name": "ProgressView",
      "bar_style": "success",
      "description": "Downloading: 100%",
      "description_tooltip": null,
      "layout": "IPY_MODEL_b32bbcc602964a59826b73ad3f6cb8a0",
      "max": 28,
      "min": 0,
      "orientation": "horizontal",
      "style": "IPY_MODEL_0daab2bffc9b42b38de836a13986231a",
      "value": 28
     }
    },
    "377461a288454f1eafa8a826a9ecc30f": {
     "model_module": "@jupyter-widgets/base",
     "model_name": "LayoutModel",
     "state": {
      "_model_module": "@jupyter-widgets/base",
      "_model_module_version": "1.2.0",
      "_model_name": "LayoutModel",
      "_view_count": null,
      "_view_module": "@jupyter-widgets/base",
      "_view_module_version": "1.2.0",
      "_view_name": "LayoutView",
      "align_content": null,
      "align_items": null,
      "align_self": null,
      "border": null,
      "bottom": null,
      "display": null,
      "flex": null,
      "flex_flow": null,
      "grid_area": null,
      "grid_auto_columns": null,
      "grid_auto_flow": null,
      "grid_auto_rows": null,
      "grid_column": null,
      "grid_gap": null,
      "grid_row": null,
      "grid_template_areas": null,
      "grid_template_columns": null,
      "grid_template_rows": null,
      "height": null,
      "justify_content": null,
      "justify_items": null,
      "left": null,
      "margin": null,
      "max_height": null,
      "max_width": null,
      "min_height": null,
      "min_width": null,
      "object_fit": null,
      "object_position": null,
      "order": null,
      "overflow": null,
      "overflow_x": null,
      "overflow_y": null,
      "padding": null,
      "right": null,
      "top": null,
      "visibility": null,
      "width": null
     }
    },
    "38b53480950048d28c5ed3640e84d455": {
     "model_module": "@jupyter-widgets/base",
     "model_name": "LayoutModel",
     "state": {
      "_model_module": "@jupyter-widgets/base",
      "_model_module_version": "1.2.0",
      "_model_name": "LayoutModel",
      "_view_count": null,
      "_view_module": "@jupyter-widgets/base",
      "_view_module_version": "1.2.0",
      "_view_name": "LayoutView",
      "align_content": null,
      "align_items": null,
      "align_self": null,
      "border": null,
      "bottom": null,
      "display": null,
      "flex": null,
      "flex_flow": null,
      "grid_area": null,
      "grid_auto_columns": null,
      "grid_auto_flow": null,
      "grid_auto_rows": null,
      "grid_column": null,
      "grid_gap": null,
      "grid_row": null,
      "grid_template_areas": null,
      "grid_template_columns": null,
      "grid_template_rows": null,
      "height": null,
      "justify_content": null,
      "justify_items": null,
      "left": null,
      "margin": null,
      "max_height": null,
      "max_width": null,
      "min_height": null,
      "min_width": null,
      "object_fit": null,
      "object_position": null,
      "order": null,
      "overflow": null,
      "overflow_x": null,
      "overflow_y": null,
      "padding": null,
      "right": null,
      "top": null,
      "visibility": null,
      "width": null
     }
    },
    "4b8c05cf9508421ba7ad89afbb208a91": {
     "model_module": "@jupyter-widgets/base",
     "model_name": "LayoutModel",
     "state": {
      "_model_module": "@jupyter-widgets/base",
      "_model_module_version": "1.2.0",
      "_model_name": "LayoutModel",
      "_view_count": null,
      "_view_module": "@jupyter-widgets/base",
      "_view_module_version": "1.2.0",
      "_view_name": "LayoutView",
      "align_content": null,
      "align_items": null,
      "align_self": null,
      "border": null,
      "bottom": null,
      "display": null,
      "flex": null,
      "flex_flow": null,
      "grid_area": null,
      "grid_auto_columns": null,
      "grid_auto_flow": null,
      "grid_auto_rows": null,
      "grid_column": null,
      "grid_gap": null,
      "grid_row": null,
      "grid_template_areas": null,
      "grid_template_columns": null,
      "grid_template_rows": null,
      "height": null,
      "justify_content": null,
      "justify_items": null,
      "left": null,
      "margin": null,
      "max_height": null,
      "max_width": null,
      "min_height": null,
      "min_width": null,
      "object_fit": null,
      "object_position": null,
      "order": null,
      "overflow": null,
      "overflow_x": null,
      "overflow_y": null,
      "padding": null,
      "right": null,
      "top": null,
      "visibility": null,
      "width": null
     }
    },
    "4eae936a95dd4715b15c7a739cda0954": {
     "model_module": "@jupyter-widgets/controls",
     "model_name": "HBoxModel",
     "state": {
      "_dom_classes": [],
      "_model_module": "@jupyter-widgets/controls",
      "_model_module_version": "1.5.0",
      "_model_name": "HBoxModel",
      "_view_count": null,
      "_view_module": "@jupyter-widgets/controls",
      "_view_module_version": "1.5.0",
      "_view_name": "HBoxView",
      "box_style": "",
      "children": [
       "IPY_MODEL_00ca1d6fa93e472d836354c91d962442",
       "IPY_MODEL_ed7cf1d2e2e74502b92d97e58885e6d5"
      ],
      "layout": "IPY_MODEL_079cf310324e4c3aa6df3d26d50343c3"
     }
    },
    "5ce1cbbd966a40aea625bf01b687513d": {
     "model_module": "@jupyter-widgets/base",
     "model_name": "LayoutModel",
     "state": {
      "_model_module": "@jupyter-widgets/base",
      "_model_module_version": "1.2.0",
      "_model_name": "LayoutModel",
      "_view_count": null,
      "_view_module": "@jupyter-widgets/base",
      "_view_module_version": "1.2.0",
      "_view_name": "LayoutView",
      "align_content": null,
      "align_items": null,
      "align_self": null,
      "border": null,
      "bottom": null,
      "display": null,
      "flex": null,
      "flex_flow": null,
      "grid_area": null,
      "grid_auto_columns": null,
      "grid_auto_flow": null,
      "grid_auto_rows": null,
      "grid_column": null,
      "grid_gap": null,
      "grid_row": null,
      "grid_template_areas": null,
      "grid_template_columns": null,
      "grid_template_rows": null,
      "height": null,
      "justify_content": null,
      "justify_items": null,
      "left": null,
      "margin": null,
      "max_height": null,
      "max_width": null,
      "min_height": null,
      "min_width": null,
      "object_fit": null,
      "object_position": null,
      "order": null,
      "overflow": null,
      "overflow_x": null,
      "overflow_y": null,
      "padding": null,
      "right": null,
      "top": null,
      "visibility": null,
      "width": null
     }
    },
    "5ea88c352a404d82bbce7a6224430e3c": {
     "model_module": "@jupyter-widgets/base",
     "model_name": "LayoutModel",
     "state": {
      "_model_module": "@jupyter-widgets/base",
      "_model_module_version": "1.2.0",
      "_model_name": "LayoutModel",
      "_view_count": null,
      "_view_module": "@jupyter-widgets/base",
      "_view_module_version": "1.2.0",
      "_view_name": "LayoutView",
      "align_content": null,
      "align_items": null,
      "align_self": null,
      "border": null,
      "bottom": null,
      "display": null,
      "flex": null,
      "flex_flow": null,
      "grid_area": null,
      "grid_auto_columns": null,
      "grid_auto_flow": null,
      "grid_auto_rows": null,
      "grid_column": null,
      "grid_gap": null,
      "grid_row": null,
      "grid_template_areas": null,
      "grid_template_columns": null,
      "grid_template_rows": null,
      "height": null,
      "justify_content": null,
      "justify_items": null,
      "left": null,
      "margin": null,
      "max_height": null,
      "max_width": null,
      "min_height": null,
      "min_width": null,
      "object_fit": null,
      "object_position": null,
      "order": null,
      "overflow": null,
      "overflow_x": null,
      "overflow_y": null,
      "padding": null,
      "right": null,
      "top": null,
      "visibility": null,
      "width": null
     }
    },
    "600ce8dc01f7467f9f7843c3a23a6d5d": {
     "model_module": "@jupyter-widgets/controls",
     "model_name": "ProgressStyleModel",
     "state": {
      "_model_module": "@jupyter-widgets/controls",
      "_model_module_version": "1.5.0",
      "_model_name": "ProgressStyleModel",
      "_view_count": null,
      "_view_module": "@jupyter-widgets/base",
      "_view_module_version": "1.2.0",
      "_view_name": "StyleView",
      "bar_color": null,
      "description_width": "initial"
     }
    },
    "626a6cac52b149d9888cae64ba29bff6": {
     "model_module": "@jupyter-widgets/controls",
     "model_name": "FloatProgressModel",
     "state": {
      "_dom_classes": [],
      "_model_module": "@jupyter-widgets/controls",
      "_model_module_version": "1.5.0",
      "_model_name": "FloatProgressModel",
      "_view_count": null,
      "_view_module": "@jupyter-widgets/controls",
      "_view_module_version": "1.5.0",
      "_view_name": "ProgressView",
      "bar_style": "success",
      "description": "Downloading: 100%",
      "description_tooltip": null,
      "layout": "IPY_MODEL_5ea88c352a404d82bbce7a6224430e3c",
      "max": 231508,
      "min": 0,
      "orientation": "horizontal",
      "style": "IPY_MODEL_badf9b4e568f4791977893f80e253135",
      "value": 231508
     }
    },
    "7bfe1110aad24de996256edd240e2b2d": {
     "model_module": "@jupyter-widgets/base",
     "model_name": "LayoutModel",
     "state": {
      "_model_module": "@jupyter-widgets/base",
      "_model_module_version": "1.2.0",
      "_model_name": "LayoutModel",
      "_view_count": null,
      "_view_module": "@jupyter-widgets/base",
      "_view_module_version": "1.2.0",
      "_view_name": "LayoutView",
      "align_content": null,
      "align_items": null,
      "align_self": null,
      "border": null,
      "bottom": null,
      "display": null,
      "flex": null,
      "flex_flow": null,
      "grid_area": null,
      "grid_auto_columns": null,
      "grid_auto_flow": null,
      "grid_auto_rows": null,
      "grid_column": null,
      "grid_gap": null,
      "grid_row": null,
      "grid_template_areas": null,
      "grid_template_columns": null,
      "grid_template_rows": null,
      "height": null,
      "justify_content": null,
      "justify_items": null,
      "left": null,
      "margin": null,
      "max_height": null,
      "max_width": null,
      "min_height": null,
      "min_width": null,
      "object_fit": null,
      "object_position": null,
      "order": null,
      "overflow": null,
      "overflow_x": null,
      "overflow_y": null,
      "padding": null,
      "right": null,
      "top": null,
      "visibility": null,
      "width": null
     }
    },
    "7c4ac4eb30fb41388a234ddbf9a9a160": {
     "model_module": "@jupyter-widgets/base",
     "model_name": "LayoutModel",
     "state": {
      "_model_module": "@jupyter-widgets/base",
      "_model_module_version": "1.2.0",
      "_model_name": "LayoutModel",
      "_view_count": null,
      "_view_module": "@jupyter-widgets/base",
      "_view_module_version": "1.2.0",
      "_view_name": "LayoutView",
      "align_content": null,
      "align_items": null,
      "align_self": null,
      "border": null,
      "bottom": null,
      "display": null,
      "flex": null,
      "flex_flow": null,
      "grid_area": null,
      "grid_auto_columns": null,
      "grid_auto_flow": null,
      "grid_auto_rows": null,
      "grid_column": null,
      "grid_gap": null,
      "grid_row": null,
      "grid_template_areas": null,
      "grid_template_columns": null,
      "grid_template_rows": null,
      "height": null,
      "justify_content": null,
      "justify_items": null,
      "left": null,
      "margin": null,
      "max_height": null,
      "max_width": null,
      "min_height": null,
      "min_width": null,
      "object_fit": null,
      "object_position": null,
      "order": null,
      "overflow": null,
      "overflow_x": null,
      "overflow_y": null,
      "padding": null,
      "right": null,
      "top": null,
      "visibility": null,
      "width": null
     }
    },
    "7d3c5337e8834ef783858acdf85fe56a": {
     "model_module": "@jupyter-widgets/controls",
     "model_name": "HBoxModel",
     "state": {
      "_dom_classes": [],
      "_model_module": "@jupyter-widgets/controls",
      "_model_module_version": "1.5.0",
      "_model_name": "HBoxModel",
      "_view_count": null,
      "_view_module": "@jupyter-widgets/controls",
      "_view_module_version": "1.5.0",
      "_view_name": "HBoxView",
      "box_style": "",
      "children": [
       "IPY_MODEL_373688c770da4ec1ab63bc8f80733a7c",
       "IPY_MODEL_c2867adc2e254b62960d91ef9bc4b36f"
      ],
      "layout": "IPY_MODEL_bb5e7f0bbab44e87bd62517e37bb47ae"
     }
    },
    "82e5ee9998a34ad3b52f4a46bd01cd62": {
     "model_module": "@jupyter-widgets/base",
     "model_name": "LayoutModel",
     "state": {
      "_model_module": "@jupyter-widgets/base",
      "_model_module_version": "1.2.0",
      "_model_name": "LayoutModel",
      "_view_count": null,
      "_view_module": "@jupyter-widgets/base",
      "_view_module_version": "1.2.0",
      "_view_name": "LayoutView",
      "align_content": null,
      "align_items": null,
      "align_self": null,
      "border": null,
      "bottom": null,
      "display": null,
      "flex": null,
      "flex_flow": null,
      "grid_area": null,
      "grid_auto_columns": null,
      "grid_auto_flow": null,
      "grid_auto_rows": null,
      "grid_column": null,
      "grid_gap": null,
      "grid_row": null,
      "grid_template_areas": null,
      "grid_template_columns": null,
      "grid_template_rows": null,
      "height": null,
      "justify_content": null,
      "justify_items": null,
      "left": null,
      "margin": null,
      "max_height": null,
      "max_width": null,
      "min_height": null,
      "min_width": null,
      "object_fit": null,
      "object_position": null,
      "order": null,
      "overflow": null,
      "overflow_x": null,
      "overflow_y": null,
      "padding": null,
      "right": null,
      "top": null,
      "visibility": null,
      "width": null
     }
    },
    "866512ec005e4bc9b028d3c8a78d9178": {
     "model_module": "@jupyter-widgets/controls",
     "model_name": "HBoxModel",
     "state": {
      "_dom_classes": [],
      "_model_module": "@jupyter-widgets/controls",
      "_model_module_version": "1.5.0",
      "_model_name": "HBoxModel",
      "_view_count": null,
      "_view_module": "@jupyter-widgets/controls",
      "_view_module_version": "1.5.0",
      "_view_name": "HBoxView",
      "box_style": "",
      "children": [
       "IPY_MODEL_f6f8b0bcf5e249438df182fd45c90234",
       "IPY_MODEL_020732fd790c43c4925f0e63635564d6"
      ],
      "layout": "IPY_MODEL_82e5ee9998a34ad3b52f4a46bd01cd62"
     }
    },
    "a3daa289ede04498a16a2d369b6cf4f3": {
     "model_module": "@jupyter-widgets/controls",
     "model_name": "DescriptionStyleModel",
     "state": {
      "_model_module": "@jupyter-widgets/controls",
      "_model_module_version": "1.5.0",
      "_model_name": "DescriptionStyleModel",
      "_view_count": null,
      "_view_module": "@jupyter-widgets/base",
      "_view_module_version": "1.2.0",
      "_view_name": "StyleView",
      "description_width": ""
     }
    },
    "b1f109e85e624f1a89dd1c5626d36d20": {
     "model_module": "@jupyter-widgets/controls",
     "model_name": "HTMLModel",
     "state": {
      "_dom_classes": [],
      "_model_module": "@jupyter-widgets/controls",
      "_model_module_version": "1.5.0",
      "_model_name": "HTMLModel",
      "_view_count": null,
      "_view_module": "@jupyter-widgets/controls",
      "_view_module_version": "1.5.0",
      "_view_name": "HTMLView",
      "description": "",
      "description_tooltip": null,
      "layout": "IPY_MODEL_05967b9481594b93901efdb0ff5ad809",
      "placeholder": "​",
      "style": "IPY_MODEL_a3daa289ede04498a16a2d369b6cf4f3",
      "value": " 232k/232k [00:01&lt;00:00, 154kB/s]"
     }
    },
    "b32bbcc602964a59826b73ad3f6cb8a0": {
     "model_module": "@jupyter-widgets/base",
     "model_name": "LayoutModel",
     "state": {
      "_model_module": "@jupyter-widgets/base",
      "_model_module_version": "1.2.0",
      "_model_name": "LayoutModel",
      "_view_count": null,
      "_view_module": "@jupyter-widgets/base",
      "_view_module_version": "1.2.0",
      "_view_name": "LayoutView",
      "align_content": null,
      "align_items": null,
      "align_self": null,
      "border": null,
      "bottom": null,
      "display": null,
      "flex": null,
      "flex_flow": null,
      "grid_area": null,
      "grid_auto_columns": null,
      "grid_auto_flow": null,
      "grid_auto_rows": null,
      "grid_column": null,
      "grid_gap": null,
      "grid_row": null,
      "grid_template_areas": null,
      "grid_template_columns": null,
      "grid_template_rows": null,
      "height": null,
      "justify_content": null,
      "justify_items": null,
      "left": null,
      "margin": null,
      "max_height": null,
      "max_width": null,
      "min_height": null,
      "min_width": null,
      "object_fit": null,
      "object_position": null,
      "order": null,
      "overflow": null,
      "overflow_x": null,
      "overflow_y": null,
      "padding": null,
      "right": null,
      "top": null,
      "visibility": null,
      "width": null
     }
    },
    "ba14ebc0ea864fe29d50e8c85d213e2e": {
     "model_module": "@jupyter-widgets/controls",
     "model_name": "DescriptionStyleModel",
     "state": {
      "_model_module": "@jupyter-widgets/controls",
      "_model_module_version": "1.5.0",
      "_model_name": "DescriptionStyleModel",
      "_view_count": null,
      "_view_module": "@jupyter-widgets/base",
      "_view_module_version": "1.2.0",
      "_view_name": "StyleView",
      "description_width": ""
     }
    },
    "badf9b4e568f4791977893f80e253135": {
     "model_module": "@jupyter-widgets/controls",
     "model_name": "ProgressStyleModel",
     "state": {
      "_model_module": "@jupyter-widgets/controls",
      "_model_module_version": "1.5.0",
      "_model_name": "ProgressStyleModel",
      "_view_count": null,
      "_view_module": "@jupyter-widgets/base",
      "_view_module_version": "1.2.0",
      "_view_name": "StyleView",
      "bar_color": null,
      "description_width": "initial"
     }
    },
    "bb5e7f0bbab44e87bd62517e37bb47ae": {
     "model_module": "@jupyter-widgets/base",
     "model_name": "LayoutModel",
     "state": {
      "_model_module": "@jupyter-widgets/base",
      "_model_module_version": "1.2.0",
      "_model_name": "LayoutModel",
      "_view_count": null,
      "_view_module": "@jupyter-widgets/base",
      "_view_module_version": "1.2.0",
      "_view_name": "LayoutView",
      "align_content": null,
      "align_items": null,
      "align_self": null,
      "border": null,
      "bottom": null,
      "display": null,
      "flex": null,
      "flex_flow": null,
      "grid_area": null,
      "grid_auto_columns": null,
      "grid_auto_flow": null,
      "grid_auto_rows": null,
      "grid_column": null,
      "grid_gap": null,
      "grid_row": null,
      "grid_template_areas": null,
      "grid_template_columns": null,
      "grid_template_rows": null,
      "height": null,
      "justify_content": null,
      "justify_items": null,
      "left": null,
      "margin": null,
      "max_height": null,
      "max_width": null,
      "min_height": null,
      "min_width": null,
      "object_fit": null,
      "object_position": null,
      "order": null,
      "overflow": null,
      "overflow_x": null,
      "overflow_y": null,
      "padding": null,
      "right": null,
      "top": null,
      "visibility": null,
      "width": null
     }
    },
    "c2867adc2e254b62960d91ef9bc4b36f": {
     "model_module": "@jupyter-widgets/controls",
     "model_name": "HTMLModel",
     "state": {
      "_dom_classes": [],
      "_model_module": "@jupyter-widgets/controls",
      "_model_module_version": "1.5.0",
      "_model_name": "HTMLModel",
      "_view_count": null,
      "_view_module": "@jupyter-widgets/controls",
      "_view_module_version": "1.5.0",
      "_view_name": "HTMLView",
      "description": "",
      "description_tooltip": null,
      "layout": "IPY_MODEL_38b53480950048d28c5ed3640e84d455",
      "placeholder": "​",
      "style": "IPY_MODEL_0423c6395eaa4d6aa9a4cc6328b4e571",
      "value": " 28.0/28.0 [00:01&lt;00:00, 26.3B/s]"
     }
    },
    "d417b3c5e34b43e19f8316813324e620": {
     "model_module": "@jupyter-widgets/controls",
     "model_name": "DescriptionStyleModel",
     "state": {
      "_model_module": "@jupyter-widgets/controls",
      "_model_module_version": "1.5.0",
      "_model_name": "DescriptionStyleModel",
      "_view_count": null,
      "_view_module": "@jupyter-widgets/base",
      "_view_module_version": "1.2.0",
      "_view_name": "StyleView",
      "description_width": ""
     }
    },
    "ddba104147f947009106ad3158e4d459": {
     "model_module": "@jupyter-widgets/base",
     "model_name": "LayoutModel",
     "state": {
      "_model_module": "@jupyter-widgets/base",
      "_model_module_version": "1.2.0",
      "_model_name": "LayoutModel",
      "_view_count": null,
      "_view_module": "@jupyter-widgets/base",
      "_view_module_version": "1.2.0",
      "_view_name": "LayoutView",
      "align_content": null,
      "align_items": null,
      "align_self": null,
      "border": null,
      "bottom": null,
      "display": null,
      "flex": null,
      "flex_flow": null,
      "grid_area": null,
      "grid_auto_columns": null,
      "grid_auto_flow": null,
      "grid_auto_rows": null,
      "grid_column": null,
      "grid_gap": null,
      "grid_row": null,
      "grid_template_areas": null,
      "grid_template_columns": null,
      "grid_template_rows": null,
      "height": null,
      "justify_content": null,
      "justify_items": null,
      "left": null,
      "margin": null,
      "max_height": null,
      "max_width": null,
      "min_height": null,
      "min_width": null,
      "object_fit": null,
      "object_position": null,
      "order": null,
      "overflow": null,
      "overflow_x": null,
      "overflow_y": null,
      "padding": null,
      "right": null,
      "top": null,
      "visibility": null,
      "width": null
     }
    },
    "ed7cf1d2e2e74502b92d97e58885e6d5": {
     "model_module": "@jupyter-widgets/controls",
     "model_name": "HTMLModel",
     "state": {
      "_dom_classes": [],
      "_model_module": "@jupyter-widgets/controls",
      "_model_module_version": "1.5.0",
      "_model_name": "HTMLModel",
      "_view_count": null,
      "_view_module": "@jupyter-widgets/controls",
      "_view_module_version": "1.5.0",
      "_view_name": "HTMLView",
      "description": "",
      "description_tooltip": null,
      "layout": "IPY_MODEL_4b8c05cf9508421ba7ad89afbb208a91",
      "placeholder": "​",
      "style": "IPY_MODEL_ba14ebc0ea864fe29d50e8c85d213e2e",
      "value": " 570/570 [00:14&lt;00:00, 39.1B/s]"
     }
    },
    "f4037784f4e94c1c80212271619d8658": {
     "model_module": "@jupyter-widgets/controls",
     "model_name": "ProgressStyleModel",
     "state": {
      "_model_module": "@jupyter-widgets/controls",
      "_model_module_version": "1.5.0",
      "_model_name": "ProgressStyleModel",
      "_view_count": null,
      "_view_module": "@jupyter-widgets/base",
      "_view_module_version": "1.2.0",
      "_view_name": "StyleView",
      "bar_color": null,
      "description_width": "initial"
     }
    },
    "f6f8b0bcf5e249438df182fd45c90234": {
     "model_module": "@jupyter-widgets/controls",
     "model_name": "FloatProgressModel",
     "state": {
      "_dom_classes": [],
      "_model_module": "@jupyter-widgets/controls",
      "_model_module_version": "1.5.0",
      "_model_name": "FloatProgressModel",
      "_view_count": null,
      "_view_module": "@jupyter-widgets/controls",
      "_view_module_version": "1.5.0",
      "_view_name": "ProgressView",
      "bar_style": "success",
      "description": "Downloading: 100%",
      "description_tooltip": null,
      "layout": "IPY_MODEL_377461a288454f1eafa8a826a9ecc30f",
      "max": 440473133,
      "min": 0,
      "orientation": "horizontal",
      "style": "IPY_MODEL_f4037784f4e94c1c80212271619d8658",
      "value": 440473133
     }
    }
   }
  }
 },
 "nbformat": 4,
 "nbformat_minor": 1
}
